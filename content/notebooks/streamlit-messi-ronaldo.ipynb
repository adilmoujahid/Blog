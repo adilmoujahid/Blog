{
 "cells": [
  {
   "cell_type": "markdown",
   "metadata": {},
   "source": [
    "In 2003, Michael Lewis published \"Moneyball\"; a book about Billy Beane, the Oakland Athletics general manager who applied statistical analysis to baseball in order to identify and recruit under-valued baseball players. With the use of data, Billy Beane achieved as many wins as teams with more than double the payroll, and managed to get to the play-offs in 4 successive years from 2000 to 2003.\n",
    "\n",
    "In 2011, Moneyball was adapted into a movie with the role of Billy Beane played by Brad Pitt. Both the book and the movie were a success and popularized the idea of using data to improve sport teams performance. The usage of data in sport is often referred as: Sports analytics.\n",
    "\n",
    "In baseball, the nature of the sport makes it easy to collect a lot of data points about in-game action. You can download from [this link](http://www.seanlahman.com/baseball-archive/statistics/) a database covering in-game data points and other statistics about the players and teams going back to 1871. If you're interested in analyzing baseball data, you can find [here](http://adilmoujahid.com/posts/2014/07/baseball-analytics/) a blog post on the topic that I wrote a few years back. \n",
    "\n",
    "In the case of football (soccer), data collection is more complex. Football is a dynamic sport with 22 players on the pitch and unlimited possibilities of ball movement and players positioning. Fortunately in the last few years, with the advancement in sensors and video analysis; it is possible to have high quality football data that can be used to analyze football games, teams and players. In this blog post, we will be using an open collection of football logs to create a web app that analyzes Messi and Ronaldo's game during LaLiga season 2017-18 [1]. We will be using Python/Streamlit to create an interactive web app that compares both players stats and shows their positions on the pitch.\n",
    "\n",
    "I would like to thank  [Luca Pappalardo](https://lucapappalardo.com/) and his colleagues for making this great dataset available to the public.\n",
    "\n",
    "Below is an animated gif of the application that we will build. You can find the source code in [this github repository](https://github.com/adilmoujahid/streamlit-messi-ronaldo).\n"
   ]
  },
  {
   "cell_type": "markdown",
   "metadata": {},
   "source": [
    "![Alt Text](/images/streamlit-messi-ronaldo.gif)"
   ]
  },
  {
   "cell_type": "markdown",
   "metadata": {},
   "source": [
    "# 1. Getting, Reading and Structuring the Data"
   ]
  },
  {
   "cell_type": "markdown",
   "metadata": {},
   "source": [
    "Messi and Ronaldo dominated world football during the last decade with a combined 11 FIFA Ballon d'Or awards (six for Messi and five for Ronaldo). Both players are considered to be amongst the greatest players of all time and they're frequently compared to each other. \n",
    "\n",
    "In this blog post, we will analyze the games of both players during LaLiga (Spanish League) season 2017-18. This was Ronaldo's last season in Spain before moving to Juventus.  "
   ]
  },
  {
   "cell_type": "markdown",
   "metadata": {},
   "source": [
    "## 1.1. Getting the Data"
   ]
  },
  {
   "cell_type": "markdown",
   "metadata": {},
   "source": [
    "To start with, we need to download the datasets that are introduced in the paper: [A public data set of spatio-temporal match events in soccer competitions](https://www.nature.com/articles/s41597-019-0247-7) from [this link](https://figshare.com/collections/Soccer_match_event_dataset/4415000/5). We need the following:  \n",
    "\n",
    "* **matches/matches_Spain.json**: Information about LaLiga (Spanish football league) season 2017-18 matches.\n",
    "* **events/events_Spain.json**: All the events that occur during each match of LaLiga season 2017-18.\n",
    "* **players.json**: All players of the teams playing in seven national and international soccer competitions (Italian, Spanish, French, German, English first divisions, World Cup 2018, European Cup 2016).\n",
    "* **teams.json**: All  teams in seven prominent soccer competitions (Italian, Spanish, German, French and English first divisions, World Cup 2018, European Cup 2016).\n",
    "* **tags2name.csv**: Mapping of tag identifiers to tag names"
   ]
  },
  {
   "cell_type": "markdown",
   "metadata": {},
   "source": [
    "## 1.2. Reading the Data"
   ]
  },
  {
   "cell_type": "markdown",
   "metadata": {},
   "source": [
    "We start by importing the different Python libraries that we need."
   ]
  },
  {
   "cell_type": "code",
   "execution_count": 1,
   "metadata": {},
   "outputs": [],
   "source": [
    "import json\n",
    "import unicodedata\n",
    "import numpy as np\n",
    "import pandas as pd"
   ]
  },
  {
   "cell_type": "markdown",
   "metadata": {},
   "source": [
    "From players.json, we can find the player id \"wyId\" of both players:\n",
    "* 3359 for Messi\n",
    "* 3322 for Ronaldo \n",
    " \n",
    "We also can find from teams.json, the team id \"wyId\" of both teams:\n",
    "* 676 for FC Barcelona\n",
    "* 675 for Real Madrid"
   ]
  },
  {
   "cell_type": "markdown",
   "metadata": {},
   "source": [
    "Next, we read Spain matches and events datasets:"
   ]
  },
  {
   "cell_type": "code",
   "execution_count": 2,
   "metadata": {},
   "outputs": [],
   "source": [
    "with open('../data/matches/matches_Spain.json') as json_file:\n",
    "    matches_spain_data = json.load(json_file)\n",
    "\n",
    "with open('../data/events/events_Spain.json') as json_file:\n",
    "    events_spain_data = json.load(json_file)"
   ]
  },
  {
   "cell_type": "markdown",
   "metadata": {},
   "source": [
    "## 1.3. Structuring the Data"
   ]
  },
  {
   "cell_type": "markdown",
   "metadata": {},
   "source": [
    "## Structuring Messi and Ronaldo's events data"
   ]
  },
  {
   "cell_type": "markdown",
   "metadata": {},
   "source": [
    "Next, we will structure all  Real Madrid and FC Barcelona matches information into 2 Pandas DataFrames."
   ]
  },
  {
   "cell_type": "code",
   "execution_count": 3,
   "metadata": {},
   "outputs": [],
   "source": [
    "barca_matches  = [match for match in matches_spain_data if '676' in match['teamsData'].keys()]\n",
    "real_matches  = [match for match in matches_spain_data if '675' in match['teamsData'].keys()]"
   ]
  },
  {
   "cell_type": "code",
   "execution_count": 4,
   "metadata": {
    "scrolled": false
   },
   "outputs": [],
   "source": [
    "barca_matches_df = pd.DataFrame(barca_matches)\n",
    "real_matches_df = pd.DataFrame(real_matches)"
   ]
  },
  {
   "cell_type": "code",
   "execution_count": 5,
   "metadata": {},
   "outputs": [
    {
     "data": {
      "text/html": [
       "<div>\n",
       "<style scoped>\n",
       "    .dataframe tbody tr th:only-of-type {\n",
       "        vertical-align: middle;\n",
       "    }\n",
       "\n",
       "    .dataframe tbody tr th {\n",
       "        vertical-align: top;\n",
       "    }\n",
       "\n",
       "    .dataframe thead th {\n",
       "        text-align: right;\n",
       "    }\n",
       "</style>\n",
       "<table border=\"1\" class=\"dataframe\">\n",
       "  <thead>\n",
       "    <tr style=\"text-align: right;\">\n",
       "      <th></th>\n",
       "      <th>status</th>\n",
       "      <th>roundId</th>\n",
       "      <th>gameweek</th>\n",
       "      <th>teamsData</th>\n",
       "      <th>seasonId</th>\n",
       "      <th>dateutc</th>\n",
       "      <th>winner</th>\n",
       "      <th>venue</th>\n",
       "      <th>wyId</th>\n",
       "      <th>label</th>\n",
       "      <th>date</th>\n",
       "      <th>referees</th>\n",
       "      <th>duration</th>\n",
       "      <th>competitionId</th>\n",
       "    </tr>\n",
       "  </thead>\n",
       "  <tbody>\n",
       "    <tr>\n",
       "      <th>0</th>\n",
       "      <td>Played</td>\n",
       "      <td>4406122</td>\n",
       "      <td>38</td>\n",
       "      <td>{'676': {'scoreET': 0, 'coachId': 92894, 'side...</td>\n",
       "      <td>181144</td>\n",
       "      <td>2018-05-20 18:45:00</td>\n",
       "      <td>676</td>\n",
       "      <td>Camp Nou</td>\n",
       "      <td>2565922</td>\n",
       "      <td>Barcelona - Real Sociedad, 1 - 0</td>\n",
       "      <td>May 20, 2018 at 8:45:00 PM GMT+2</td>\n",
       "      <td>[{'refereeId': 398931, 'role': 'referee'}, {'r...</td>\n",
       "      <td>Regular</td>\n",
       "      <td>795</td>\n",
       "    </tr>\n",
       "    <tr>\n",
       "      <th>1</th>\n",
       "      <td>Played</td>\n",
       "      <td>4406122</td>\n",
       "      <td>37</td>\n",
       "      <td>{'676': {'scoreET': 0, 'coachId': 92894, 'side...</td>\n",
       "      <td>181144</td>\n",
       "      <td>2018-05-13 18:45:00</td>\n",
       "      <td>695</td>\n",
       "      <td>Estadio Ciudad de Valencia</td>\n",
       "      <td>2565917</td>\n",
       "      <td>Levante - Barcelona, 5 - 4</td>\n",
       "      <td>May 13, 2018 at 8:45:00 PM GMT+2</td>\n",
       "      <td>[{'refereeId': 420995, 'role': 'referee'}, {'r...</td>\n",
       "      <td>Regular</td>\n",
       "      <td>795</td>\n",
       "    </tr>\n",
       "  </tbody>\n",
       "</table>\n",
       "</div>"
      ],
      "text/plain": [
       "   status  roundId  gameweek  \\\n",
       "0  Played  4406122        38   \n",
       "1  Played  4406122        37   \n",
       "\n",
       "                                           teamsData  seasonId  \\\n",
       "0  {'676': {'scoreET': 0, 'coachId': 92894, 'side...    181144   \n",
       "1  {'676': {'scoreET': 0, 'coachId': 92894, 'side...    181144   \n",
       "\n",
       "               dateutc  winner                       venue     wyId  \\\n",
       "0  2018-05-20 18:45:00     676                    Camp Nou  2565922   \n",
       "1  2018-05-13 18:45:00     695  Estadio Ciudad de Valencia  2565917   \n",
       "\n",
       "                              label                              date  \\\n",
       "0  Barcelona - Real Sociedad, 1 - 0  May 20, 2018 at 8:45:00 PM GMT+2   \n",
       "1        Levante - Barcelona, 5 - 4  May 13, 2018 at 8:45:00 PM GMT+2   \n",
       "\n",
       "                                            referees duration  competitionId  \n",
       "0  [{'refereeId': 398931, 'role': 'referee'}, {'r...  Regular            795  \n",
       "1  [{'refereeId': 420995, 'role': 'referee'}, {'r...  Regular            795  "
      ]
     },
     "execution_count": 5,
     "metadata": {},
     "output_type": "execute_result"
    }
   ],
   "source": [
    "barca_matches_df.head(2)"
   ]
  },
  {
   "cell_type": "markdown",
   "metadata": {},
   "source": [
    "Next,  we will structure all Messi and Ronaldo's events data into 2 Pandas DataFrames."
   ]
  },
  {
   "cell_type": "code",
   "execution_count": 6,
   "metadata": {},
   "outputs": [],
   "source": [
    "messi_events_data = []\n",
    "for event in events_spain_data:\n",
    "    if event['playerId'] == 3359:\n",
    "        messi_events_data.append(event)\n",
    "        \n",
    "messi_events_data_df = pd.DataFrame(messi_events_data)"
   ]
  },
  {
   "cell_type": "code",
   "execution_count": 7,
   "metadata": {},
   "outputs": [],
   "source": [
    "ronaldo_events_data = []\n",
    "for event in events_spain_data:\n",
    "    if event['playerId'] == 3322:\n",
    "        ronaldo_events_data.append(event)\n",
    "\n",
    "ronaldo_events_data_df = pd.DataFrame(ronaldo_events_data)"
   ]
  },
  {
   "cell_type": "markdown",
   "metadata": {},
   "source": [
    "### Adding tags to events data"
   ]
  },
  {
   "cell_type": "markdown",
   "metadata": {},
   "source": [
    "From tags2name.csv, we select the event tags that are interesting for our analysis.\n",
    "\n",
    "* **101**: Goal\n",
    "* **301**: Assist\n",
    "* **302**: key Pass \n",
    "* **401**: Left Foot\n",
    "* **402**: Right Foot"
   ]
  },
  {
   "cell_type": "markdown",
   "metadata": {},
   "source": [
    "We add these tags as new columns in the events DataFrames."
   ]
  },
  {
   "cell_type": "code",
   "execution_count": 8,
   "metadata": {},
   "outputs": [],
   "source": [
    "def add_tag(tags, tag_id):\n",
    "    return tag_id in [tag['id'] for tag in tags]"
   ]
  },
  {
   "cell_type": "code",
   "execution_count": 9,
   "metadata": {},
   "outputs": [
    {
     "data": {
      "text/plain": [
       "Index(['eventId', 'subEventName', 'tags', 'playerId', 'positions', 'matchId',\n",
       "       'eventName', 'teamId', 'matchPeriod', 'eventSec', 'subEventId', 'id'],\n",
       "      dtype='object')"
      ]
     },
     "execution_count": 9,
     "metadata": {},
     "output_type": "execute_result"
    }
   ],
   "source": [
    "messi_events_data_df.columns"
   ]
  },
  {
   "cell_type": "code",
   "execution_count": 10,
   "metadata": {},
   "outputs": [],
   "source": [
    "messi_events_data_df['goal'] = messi_events_data_df['tags'].apply(lambda x: add_tag(x, 101))\n",
    "messi_events_data_df['assist'] = messi_events_data_df['tags'].apply(lambda x: add_tag(x, 301))\n",
    "messi_events_data_df['key_pass'] = messi_events_data_df['tags'].apply(lambda x: add_tag(x, 302))\n",
    "messi_events_data_df['left_foot'] = messi_events_data_df['tags'].apply(lambda x: add_tag(x, 401))\n",
    "messi_events_data_df['right_foot'] = messi_events_data_df['tags'].apply(lambda x: add_tag(x, 402))\n",
    "\n",
    "ronaldo_events_data_df['goal'] = ronaldo_events_data_df['tags'].apply(lambda x: add_tag(x, 101))\n",
    "ronaldo_events_data_df['assist'] = ronaldo_events_data_df['tags'].apply(lambda x: add_tag(x, 301))\n",
    "ronaldo_events_data_df['key_pass'] = ronaldo_events_data_df['tags'].apply(lambda x: add_tag(x, 302))\n",
    "ronaldo_events_data_df['left_foot'] = ronaldo_events_data_df['tags'].apply(lambda x: add_tag(x, 401))\n",
    "ronaldo_events_data_df['right_foot'] = ronaldo_events_data_df['tags'].apply(lambda x: add_tag(x, 402))"
   ]
  },
  {
   "cell_type": "code",
   "execution_count": 11,
   "metadata": {},
   "outputs": [
    {
     "data": {
      "text/html": [
       "<div>\n",
       "<style scoped>\n",
       "    .dataframe tbody tr th:only-of-type {\n",
       "        vertical-align: middle;\n",
       "    }\n",
       "\n",
       "    .dataframe tbody tr th {\n",
       "        vertical-align: top;\n",
       "    }\n",
       "\n",
       "    .dataframe thead th {\n",
       "        text-align: right;\n",
       "    }\n",
       "</style>\n",
       "<table border=\"1\" class=\"dataframe\">\n",
       "  <thead>\n",
       "    <tr style=\"text-align: right;\">\n",
       "      <th></th>\n",
       "      <th>eventId</th>\n",
       "      <th>subEventName</th>\n",
       "      <th>tags</th>\n",
       "      <th>playerId</th>\n",
       "      <th>positions</th>\n",
       "      <th>matchId</th>\n",
       "      <th>eventName</th>\n",
       "      <th>teamId</th>\n",
       "      <th>matchPeriod</th>\n",
       "      <th>eventSec</th>\n",
       "      <th>subEventId</th>\n",
       "      <th>id</th>\n",
       "      <th>goal</th>\n",
       "      <th>assist</th>\n",
       "      <th>key_pass</th>\n",
       "      <th>left_foot</th>\n",
       "      <th>right_foot</th>\n",
       "    </tr>\n",
       "  </thead>\n",
       "  <tbody>\n",
       "    <tr>\n",
       "      <th>0</th>\n",
       "      <td>8</td>\n",
       "      <td>Simple pass</td>\n",
       "      <td>[{'id': 1801}]</td>\n",
       "      <td>3359</td>\n",
       "      <td>[{'y': 50, 'x': 50}, {'y': 50, 'x': 40}]</td>\n",
       "      <td>2565554</td>\n",
       "      <td>Pass</td>\n",
       "      <td>676</td>\n",
       "      <td>1H</td>\n",
       "      <td>1.012047</td>\n",
       "      <td>85</td>\n",
       "      <td>180465950</td>\n",
       "      <td>False</td>\n",
       "      <td>False</td>\n",
       "      <td>False</td>\n",
       "      <td>False</td>\n",
       "      <td>False</td>\n",
       "    </tr>\n",
       "    <tr>\n",
       "      <th>1</th>\n",
       "      <td>8</td>\n",
       "      <td>Simple pass</td>\n",
       "      <td>[{'id': 1801}]</td>\n",
       "      <td>3359</td>\n",
       "      <td>[{'y': 64, 'x': 71}, {'y': 67, 'x': 54}]</td>\n",
       "      <td>2565554</td>\n",
       "      <td>Pass</td>\n",
       "      <td>676</td>\n",
       "      <td>1H</td>\n",
       "      <td>51.068905</td>\n",
       "      <td>85</td>\n",
       "      <td>180465968</td>\n",
       "      <td>False</td>\n",
       "      <td>False</td>\n",
       "      <td>False</td>\n",
       "      <td>False</td>\n",
       "      <td>False</td>\n",
       "    </tr>\n",
       "  </tbody>\n",
       "</table>\n",
       "</div>"
      ],
      "text/plain": [
       "   eventId subEventName            tags  playerId  \\\n",
       "0        8  Simple pass  [{'id': 1801}]      3359   \n",
       "1        8  Simple pass  [{'id': 1801}]      3359   \n",
       "\n",
       "                                  positions  matchId eventName  teamId  \\\n",
       "0  [{'y': 50, 'x': 50}, {'y': 50, 'x': 40}]  2565554      Pass     676   \n",
       "1  [{'y': 64, 'x': 71}, {'y': 67, 'x': 54}]  2565554      Pass     676   \n",
       "\n",
       "  matchPeriod   eventSec subEventId         id   goal  assist  key_pass  \\\n",
       "0          1H   1.012047         85  180465950  False   False     False   \n",
       "1          1H  51.068905         85  180465968  False   False     False   \n",
       "\n",
       "   left_foot  right_foot  \n",
       "0      False       False  \n",
       "1      False       False  "
      ]
     },
     "execution_count": 11,
     "metadata": {},
     "output_type": "execute_result"
    }
   ],
   "source": [
    "messi_events_data_df.head(2)"
   ]
  },
  {
   "cell_type": "markdown",
   "metadata": {},
   "source": [
    "###  Adding matches information to the events DataFrames"
   ]
  },
  {
   "cell_type": "code",
   "execution_count": 12,
   "metadata": {},
   "outputs": [],
   "source": [
    "messi_events_data_df = pd.merge(messi_events_data_df, barca_matches_df, left_on='matchId', right_on='wyId', copy=False, how=\"left\")"
   ]
  },
  {
   "cell_type": "code",
   "execution_count": 13,
   "metadata": {},
   "outputs": [],
   "source": [
    "ronaldo_events_data_df = pd.merge(ronaldo_events_data_df, real_matches_df, left_on='matchId', right_on='wyId', copy=False, how=\"left\")"
   ]
  },
  {
   "cell_type": "code",
   "execution_count": 14,
   "metadata": {},
   "outputs": [
    {
     "data": {
      "text/html": [
       "<div>\n",
       "<style scoped>\n",
       "    .dataframe tbody tr th:only-of-type {\n",
       "        vertical-align: middle;\n",
       "    }\n",
       "\n",
       "    .dataframe tbody tr th {\n",
       "        vertical-align: top;\n",
       "    }\n",
       "\n",
       "    .dataframe thead th {\n",
       "        text-align: right;\n",
       "    }\n",
       "</style>\n",
       "<table border=\"1\" class=\"dataframe\">\n",
       "  <thead>\n",
       "    <tr style=\"text-align: right;\">\n",
       "      <th></th>\n",
       "      <th>eventId</th>\n",
       "      <th>subEventName</th>\n",
       "      <th>tags</th>\n",
       "      <th>playerId</th>\n",
       "      <th>positions</th>\n",
       "      <th>matchId</th>\n",
       "      <th>eventName</th>\n",
       "      <th>teamId</th>\n",
       "      <th>matchPeriod</th>\n",
       "      <th>eventSec</th>\n",
       "      <th>...</th>\n",
       "      <th>seasonId</th>\n",
       "      <th>dateutc</th>\n",
       "      <th>winner</th>\n",
       "      <th>venue</th>\n",
       "      <th>wyId</th>\n",
       "      <th>label</th>\n",
       "      <th>date</th>\n",
       "      <th>referees</th>\n",
       "      <th>duration</th>\n",
       "      <th>competitionId</th>\n",
       "    </tr>\n",
       "  </thead>\n",
       "  <tbody>\n",
       "    <tr>\n",
       "      <th>0</th>\n",
       "      <td>8</td>\n",
       "      <td>Simple pass</td>\n",
       "      <td>[{'id': 1801}]</td>\n",
       "      <td>3359</td>\n",
       "      <td>[{'y': 50, 'x': 50}, {'y': 50, 'x': 40}]</td>\n",
       "      <td>2565554</td>\n",
       "      <td>Pass</td>\n",
       "      <td>676</td>\n",
       "      <td>1H</td>\n",
       "      <td>1.012047</td>\n",
       "      <td>...</td>\n",
       "      <td>181144</td>\n",
       "      <td>2017-08-20 18:15:00</td>\n",
       "      <td>676</td>\n",
       "      <td>Camp Nou</td>\n",
       "      <td>2565554</td>\n",
       "      <td>Barcelona - Real Betis, 2 - 0</td>\n",
       "      <td>August 20, 2017 at 8:15:00 PM GMT+2</td>\n",
       "      <td>[{'refereeId': 398919, 'role': 'referee'}, {'r...</td>\n",
       "      <td>Regular</td>\n",
       "      <td>795</td>\n",
       "    </tr>\n",
       "    <tr>\n",
       "      <th>1</th>\n",
       "      <td>8</td>\n",
       "      <td>Simple pass</td>\n",
       "      <td>[{'id': 1801}]</td>\n",
       "      <td>3359</td>\n",
       "      <td>[{'y': 64, 'x': 71}, {'y': 67, 'x': 54}]</td>\n",
       "      <td>2565554</td>\n",
       "      <td>Pass</td>\n",
       "      <td>676</td>\n",
       "      <td>1H</td>\n",
       "      <td>51.068905</td>\n",
       "      <td>...</td>\n",
       "      <td>181144</td>\n",
       "      <td>2017-08-20 18:15:00</td>\n",
       "      <td>676</td>\n",
       "      <td>Camp Nou</td>\n",
       "      <td>2565554</td>\n",
       "      <td>Barcelona - Real Betis, 2 - 0</td>\n",
       "      <td>August 20, 2017 at 8:15:00 PM GMT+2</td>\n",
       "      <td>[{'refereeId': 398919, 'role': 'referee'}, {'r...</td>\n",
       "      <td>Regular</td>\n",
       "      <td>795</td>\n",
       "    </tr>\n",
       "  </tbody>\n",
       "</table>\n",
       "<p>2 rows × 31 columns</p>\n",
       "</div>"
      ],
      "text/plain": [
       "   eventId subEventName            tags  playerId  \\\n",
       "0        8  Simple pass  [{'id': 1801}]      3359   \n",
       "1        8  Simple pass  [{'id': 1801}]      3359   \n",
       "\n",
       "                                  positions  matchId eventName  teamId  \\\n",
       "0  [{'y': 50, 'x': 50}, {'y': 50, 'x': 40}]  2565554      Pass     676   \n",
       "1  [{'y': 64, 'x': 71}, {'y': 67, 'x': 54}]  2565554      Pass     676   \n",
       "\n",
       "  matchPeriod   eventSec  ... seasonId              dateutc  winner     venue  \\\n",
       "0          1H   1.012047  ...   181144  2017-08-20 18:15:00     676  Camp Nou   \n",
       "1          1H  51.068905  ...   181144  2017-08-20 18:15:00     676  Camp Nou   \n",
       "\n",
       "      wyId                          label  \\\n",
       "0  2565554  Barcelona - Real Betis, 2 - 0   \n",
       "1  2565554  Barcelona - Real Betis, 2 - 0   \n",
       "\n",
       "                                  date  \\\n",
       "0  August 20, 2017 at 8:15:00 PM GMT+2   \n",
       "1  August 20, 2017 at 8:15:00 PM GMT+2   \n",
       "\n",
       "                                            referees  duration  competitionId  \n",
       "0  [{'refereeId': 398919, 'role': 'referee'}, {'r...   Regular            795  \n",
       "1  [{'refereeId': 398919, 'role': 'referee'}, {'r...   Regular            795  \n",
       "\n",
       "[2 rows x 31 columns]"
      ]
     },
     "execution_count": 14,
     "metadata": {},
     "output_type": "execute_result"
    }
   ],
   "source": [
    "messi_events_data_df.head(2)"
   ]
  },
  {
   "cell_type": "markdown",
   "metadata": {},
   "source": [
    "### Saving Data to Disk"
   ]
  },
  {
   "cell_type": "code",
   "execution_count": 15,
   "metadata": {},
   "outputs": [],
   "source": [
    "messi_events_data_df.to_pickle('../data/messi_events_data_df.pkl')\n",
    "ronaldo_events_data_df.to_pickle('../data/ronaldo_events_data_df.pkl')"
   ]
  },
  {
   "cell_type": "markdown",
   "metadata": {},
   "source": [
    "## Getting matches dates"
   ]
  },
  {
   "cell_type": "markdown",
   "metadata": {},
   "source": [
    "Next, we will create 2 DataFrames with all Real Madrid and FC Barcelona LaLiga matches during season 2017-18 and the corresponding dates."
   ]
  },
  {
   "cell_type": "code",
   "execution_count": 16,
   "metadata": {},
   "outputs": [],
   "source": [
    "barca_matches_dates_df = barca_matches_df[['label', 'date']].copy()\n",
    "real_matches_dates_df = real_matches_df[['label', 'date']].copy()"
   ]
  },
  {
   "cell_type": "code",
   "execution_count": 17,
   "metadata": {},
   "outputs": [],
   "source": [
    "barca_matches_dates_df['date'] = pd.to_datetime(barca_matches_df['date'], utc=True).dt.date\n",
    "real_matches_dates_df['date'] = pd.to_datetime(real_matches_df['date'], utc=True).dt.date"
   ]
  },
  {
   "cell_type": "code",
   "execution_count": 18,
   "metadata": {},
   "outputs": [],
   "source": [
    "#Change date to string \n",
    "barca_matches_dates_df['date'] = barca_matches_dates_df['date'].apply(lambda x: x.strftime('%Y-%m-%d'))\n",
    "real_matches_dates_df['date'] = real_matches_dates_df['date'].apply(lambda x: x.strftime('%Y-%m-%d'))"
   ]
  },
  {
   "cell_type": "code",
   "execution_count": 19,
   "metadata": {},
   "outputs": [],
   "source": [
    "barca_matches_dates_df = barca_matches_dates_df.rename(columns={\"label\": \"match\"})\n",
    "real_matches_dates_df = real_matches_dates_df.rename(columns={\"label\": \"match\"})"
   ]
  },
  {
   "cell_type": "code",
   "execution_count": 20,
   "metadata": {},
   "outputs": [
    {
     "data": {
      "text/html": [
       "<div>\n",
       "<style scoped>\n",
       "    .dataframe tbody tr th:only-of-type {\n",
       "        vertical-align: middle;\n",
       "    }\n",
       "\n",
       "    .dataframe tbody tr th {\n",
       "        vertical-align: top;\n",
       "    }\n",
       "\n",
       "    .dataframe thead th {\n",
       "        text-align: right;\n",
       "    }\n",
       "</style>\n",
       "<table border=\"1\" class=\"dataframe\">\n",
       "  <thead>\n",
       "    <tr style=\"text-align: right;\">\n",
       "      <th></th>\n",
       "      <th>match</th>\n",
       "      <th>date</th>\n",
       "    </tr>\n",
       "  </thead>\n",
       "  <tbody>\n",
       "    <tr>\n",
       "      <th>0</th>\n",
       "      <td>Barcelona - Real Sociedad, 1 - 0</td>\n",
       "      <td>2018-05-20</td>\n",
       "    </tr>\n",
       "    <tr>\n",
       "      <th>1</th>\n",
       "      <td>Levante - Barcelona, 5 - 4</td>\n",
       "      <td>2018-05-13</td>\n",
       "    </tr>\n",
       "  </tbody>\n",
       "</table>\n",
       "</div>"
      ],
      "text/plain": [
       "                              match        date\n",
       "0  Barcelona - Real Sociedad, 1 - 0  2018-05-20\n",
       "1        Levante - Barcelona, 5 - 4  2018-05-13"
      ]
     },
     "execution_count": 20,
     "metadata": {},
     "output_type": "execute_result"
    }
   ],
   "source": [
    "barca_matches_dates_df.head(2)"
   ]
  },
  {
   "cell_type": "markdown",
   "metadata": {},
   "source": [
    "### Saving to Disk"
   ]
  },
  {
   "cell_type": "code",
   "execution_count": 21,
   "metadata": {},
   "outputs": [],
   "source": [
    "barca_matches_dates_df.to_pickle('../data/barca_matches_dates_df.pkl')\n",
    "real_matches_dates_df.to_pickle('../data/real_matches_dates_df.pkl')"
   ]
  },
  {
   "cell_type": "markdown",
   "metadata": {},
   "source": [
    "# 2. Analyzing the Data"
   ]
  },
  {
   "cell_type": "markdown",
   "metadata": {},
   "source": [
    "In this section, we will analyze Messi and Ronaldo's events DataFrames. We will compute a few statistics and we will see how we can plot the events on a football pitch."
   ]
  },
  {
   "cell_type": "markdown",
   "metadata": {},
   "source": [
    "### Total number of events broken down by player and event type"
   ]
  },
  {
   "cell_type": "code",
   "execution_count": 22,
   "metadata": {
    "scrolled": true
   },
   "outputs": [
    {
     "name": "stdout",
     "output_type": "stream",
     "text": [
      "            Messi  Ronaldo\n",
      "Goals          34       26\n",
      "Assists        13        5\n",
      "Shots         142      151\n",
      "Free Kicks     47       15\n",
      "Passes       1787      727\n"
     ]
    }
   ],
   "source": [
    "goals = [messi_events_data_df['goal'].sum(), ronaldo_events_data_df['goal'].sum()]\n",
    "assists = [messi_events_data_df['assist'].sum(), ronaldo_events_data_df['assist'].sum()]\n",
    "shots = [messi_events_data_df[messi_events_data_df['eventName'] == 'Shot'].count()['eventName'],\n",
    "         ronaldo_events_data_df[ronaldo_events_data_df['eventName'] == 'Shot'].count()['eventName']]\n",
    "free_kicks = [messi_events_data_df[messi_events_data_df['subEventName'] == 'Free kick shot'].count()['subEventName'], \n",
    "              ronaldo_events_data_df[ronaldo_events_data_df['subEventName'] == 'Free kick shot'].count()['subEventName']]\n",
    "passes = [messi_events_data_df[messi_events_data_df['eventName'] == 'Pass'].count()['eventName'],\n",
    "          ronaldo_events_data_df[ronaldo_events_data_df['eventName'] == 'Pass'].count()['eventName']]\n",
    "\n",
    "stats_df = pd.DataFrame([goals, assists, shots, free_kicks, passes], \n",
    "                        columns=['Messi', 'Ronaldo'], \n",
    "                        index=['Goals', 'Assists', 'Shots', 'Free Kicks', 'Passes'])\n",
    "\n",
    "print(stats_df)"
   ]
  },
  {
   "cell_type": "markdown",
   "metadata": {},
   "source": [
    "### Goals by left foot vs. right foot"
   ]
  },
  {
   "cell_type": "code",
   "execution_count": 23,
   "metadata": {},
   "outputs": [
    {
     "name": "stdout",
     "output_type": "stream",
     "text": [
      "Messi's goals with left foot:  32\n",
      "Messi's goals with right foot:  2\n"
     ]
    }
   ],
   "source": [
    "messi_lf_goals = messi_events_data_df[messi_events_data_df['left_foot'] == True]['goal'].sum()\n",
    "messi_rf_goals = messi_events_data_df[messi_events_data_df['right_foot'] == True]['goal'].sum()\n",
    "\n",
    "print(\"Messi's goals with left foot: \", messi_lf_goals)\n",
    "print(\"Messi's goals with right foot: \", messi_rf_goals)"
   ]
  },
  {
   "cell_type": "code",
   "execution_count": 24,
   "metadata": {},
   "outputs": [],
   "source": [
    "ronaldo_lf_goals = ronaldo_events_data_df[ronaldo_events_data_df['left_foot'] == True]['goal'].sum()\n",
    "ronaldo_rf_goals = ronaldo_events_data_df[ronaldo_events_data_df['right_foot'] == True]['goal'].sum()"
   ]
  },
  {
   "cell_type": "code",
   "execution_count": 25,
   "metadata": {},
   "outputs": [
    {
     "name": "stdout",
     "output_type": "stream",
     "text": [
      "Ronaldo's goals with left foot:  7\n",
      "Ronaldo's goals with right foot:  14\n"
     ]
    }
   ],
   "source": [
    "print(\"Ronaldo's goals with left foot: \", ronaldo_lf_goals)\n",
    "print(\"Ronaldo's goals with right foot: \", ronaldo_rf_goals)"
   ]
  },
  {
   "cell_type": "markdown",
   "metadata": {},
   "source": [
    "### Ploting the events on a football pitch"
   ]
  },
  {
   "cell_type": "markdown",
   "metadata": {},
   "source": [
    "For each event in ```messi_events_data_df``` and ```ronaldo_events_data_df```, we have the origin and destination positions associated with the event. Each position is a pair of coordinates (x, y). The x and y coordinates are always in the range [0, 100] and indicate the percentage of the field from the perspective of the attacking team. [2] We will use these positions to plot the events on a football pitch."
   ]
  },
  {
   "cell_type": "code",
   "execution_count": 26,
   "metadata": {},
   "outputs": [
    {
     "data": {
      "text/plain": [
       "0    [{'y': 50, 'x': 50}, {'y': 50, 'x': 40}]\n",
       "1    [{'y': 64, 'x': 71}, {'y': 67, 'x': 54}]\n",
       "2    [{'y': 62, 'x': 62}, {'y': 64, 'x': 69}]\n",
       "3    [{'y': 64, 'x': 69}, {'y': 74, 'x': 83}]\n",
       "4    [{'y': 74, 'x': 83}, {'y': 61, 'x': 77}]\n",
       "Name: positions, dtype: object"
      ]
     },
     "execution_count": 26,
     "metadata": {},
     "output_type": "execute_result"
    }
   ],
   "source": [
    "messi_events_data_df['positions'].head()"
   ]
  },
  {
   "cell_type": "code",
   "execution_count": 27,
   "metadata": {},
   "outputs": [
    {
     "data": {
      "text/html": [
       "\n",
       "    <div class=\"bk-root\">\n",
       "        <a href=\"https://bokeh.org\" target=\"_blank\" class=\"bk-logo bk-logo-small bk-logo-notebook\"></a>\n",
       "        <span id=\"1001\">Loading BokehJS ...</span>\n",
       "    </div>"
      ]
     },
     "metadata": {},
     "output_type": "display_data"
    },
    {
     "data": {
      "application/javascript": [
       "\n",
       "(function(root) {\n",
       "  function now() {\n",
       "    return new Date();\n",
       "  }\n",
       "\n",
       "  var force = true;\n",
       "\n",
       "  if (typeof root._bokeh_onload_callbacks === \"undefined\" || force === true) {\n",
       "    root._bokeh_onload_callbacks = [];\n",
       "    root._bokeh_is_loading = undefined;\n",
       "  }\n",
       "\n",
       "  var JS_MIME_TYPE = 'application/javascript';\n",
       "  var HTML_MIME_TYPE = 'text/html';\n",
       "  var EXEC_MIME_TYPE = 'application/vnd.bokehjs_exec.v0+json';\n",
       "  var CLASS_NAME = 'output_bokeh rendered_html';\n",
       "\n",
       "  /**\n",
       "   * Render data to the DOM node\n",
       "   */\n",
       "  function render(props, node) {\n",
       "    var script = document.createElement(\"script\");\n",
       "    node.appendChild(script);\n",
       "  }\n",
       "\n",
       "  /**\n",
       "   * Handle when an output is cleared or removed\n",
       "   */\n",
       "  function handleClearOutput(event, handle) {\n",
       "    var cell = handle.cell;\n",
       "\n",
       "    var id = cell.output_area._bokeh_element_id;\n",
       "    var server_id = cell.output_area._bokeh_server_id;\n",
       "    // Clean up Bokeh references\n",
       "    if (id != null && id in Bokeh.index) {\n",
       "      Bokeh.index[id].model.document.clear();\n",
       "      delete Bokeh.index[id];\n",
       "    }\n",
       "\n",
       "    if (server_id !== undefined) {\n",
       "      // Clean up Bokeh references\n",
       "      var cmd = \"from bokeh.io.state import curstate; print(curstate().uuid_to_server['\" + server_id + \"'].get_sessions()[0].document.roots[0]._id)\";\n",
       "      cell.notebook.kernel.execute(cmd, {\n",
       "        iopub: {\n",
       "          output: function(msg) {\n",
       "            var id = msg.content.text.trim();\n",
       "            if (id in Bokeh.index) {\n",
       "              Bokeh.index[id].model.document.clear();\n",
       "              delete Bokeh.index[id];\n",
       "            }\n",
       "          }\n",
       "        }\n",
       "      });\n",
       "      // Destroy server and session\n",
       "      var cmd = \"import bokeh.io.notebook as ion; ion.destroy_server('\" + server_id + \"')\";\n",
       "      cell.notebook.kernel.execute(cmd);\n",
       "    }\n",
       "  }\n",
       "\n",
       "  /**\n",
       "   * Handle when a new output is added\n",
       "   */\n",
       "  function handleAddOutput(event, handle) {\n",
       "    var output_area = handle.output_area;\n",
       "    var output = handle.output;\n",
       "\n",
       "    // limit handleAddOutput to display_data with EXEC_MIME_TYPE content only\n",
       "    if ((output.output_type != \"display_data\") || (!output.data.hasOwnProperty(EXEC_MIME_TYPE))) {\n",
       "      return\n",
       "    }\n",
       "\n",
       "    var toinsert = output_area.element.find(\".\" + CLASS_NAME.split(' ')[0]);\n",
       "\n",
       "    if (output.metadata[EXEC_MIME_TYPE][\"id\"] !== undefined) {\n",
       "      toinsert[toinsert.length - 1].firstChild.textContent = output.data[JS_MIME_TYPE];\n",
       "      // store reference to embed id on output_area\n",
       "      output_area._bokeh_element_id = output.metadata[EXEC_MIME_TYPE][\"id\"];\n",
       "    }\n",
       "    if (output.metadata[EXEC_MIME_TYPE][\"server_id\"] !== undefined) {\n",
       "      var bk_div = document.createElement(\"div\");\n",
       "      bk_div.innerHTML = output.data[HTML_MIME_TYPE];\n",
       "      var script_attrs = bk_div.children[0].attributes;\n",
       "      for (var i = 0; i < script_attrs.length; i++) {\n",
       "        toinsert[toinsert.length - 1].firstChild.setAttribute(script_attrs[i].name, script_attrs[i].value);\n",
       "        toinsert[toinsert.length - 1].firstChild.textContent = bk_div.children[0].textContent\n",
       "      }\n",
       "      // store reference to server id on output_area\n",
       "      output_area._bokeh_server_id = output.metadata[EXEC_MIME_TYPE][\"server_id\"];\n",
       "    }\n",
       "  }\n",
       "\n",
       "  function register_renderer(events, OutputArea) {\n",
       "\n",
       "    function append_mime(data, metadata, element) {\n",
       "      // create a DOM node to render to\n",
       "      var toinsert = this.create_output_subarea(\n",
       "        metadata,\n",
       "        CLASS_NAME,\n",
       "        EXEC_MIME_TYPE\n",
       "      );\n",
       "      this.keyboard_manager.register_events(toinsert);\n",
       "      // Render to node\n",
       "      var props = {data: data, metadata: metadata[EXEC_MIME_TYPE]};\n",
       "      render(props, toinsert[toinsert.length - 1]);\n",
       "      element.append(toinsert);\n",
       "      return toinsert\n",
       "    }\n",
       "\n",
       "    /* Handle when an output is cleared or removed */\n",
       "    events.on('clear_output.CodeCell', handleClearOutput);\n",
       "    events.on('delete.Cell', handleClearOutput);\n",
       "\n",
       "    /* Handle when a new output is added */\n",
       "    events.on('output_added.OutputArea', handleAddOutput);\n",
       "\n",
       "    /**\n",
       "     * Register the mime type and append_mime function with output_area\n",
       "     */\n",
       "    OutputArea.prototype.register_mime_type(EXEC_MIME_TYPE, append_mime, {\n",
       "      /* Is output safe? */\n",
       "      safe: true,\n",
       "      /* Index of renderer in `output_area.display_order` */\n",
       "      index: 0\n",
       "    });\n",
       "  }\n",
       "\n",
       "  // register the mime type if in Jupyter Notebook environment and previously unregistered\n",
       "  if (root.Jupyter !== undefined) {\n",
       "    var events = require('base/js/events');\n",
       "    var OutputArea = require('notebook/js/outputarea').OutputArea;\n",
       "\n",
       "    if (OutputArea.prototype.mime_types().indexOf(EXEC_MIME_TYPE) == -1) {\n",
       "      register_renderer(events, OutputArea);\n",
       "    }\n",
       "  }\n",
       "\n",
       "  \n",
       "  if (typeof (root._bokeh_timeout) === \"undefined\" || force === true) {\n",
       "    root._bokeh_timeout = Date.now() + 5000;\n",
       "    root._bokeh_failed_load = false;\n",
       "  }\n",
       "\n",
       "  var NB_LOAD_WARNING = {'data': {'text/html':\n",
       "     \"<div style='background-color: #fdd'>\\n\"+\n",
       "     \"<p>\\n\"+\n",
       "     \"BokehJS does not appear to have successfully loaded. If loading BokehJS from CDN, this \\n\"+\n",
       "     \"may be due to a slow or bad network connection. Possible fixes:\\n\"+\n",
       "     \"</p>\\n\"+\n",
       "     \"<ul>\\n\"+\n",
       "     \"<li>re-rerun `output_notebook()` to attempt to load from CDN again, or</li>\\n\"+\n",
       "     \"<li>use INLINE resources instead, as so:</li>\\n\"+\n",
       "     \"</ul>\\n\"+\n",
       "     \"<code>\\n\"+\n",
       "     \"from bokeh.resources import INLINE\\n\"+\n",
       "     \"output_notebook(resources=INLINE)\\n\"+\n",
       "     \"</code>\\n\"+\n",
       "     \"</div>\"}};\n",
       "\n",
       "  function display_loaded() {\n",
       "    var el = document.getElementById(\"1001\");\n",
       "    if (el != null) {\n",
       "      el.textContent = \"BokehJS is loading...\";\n",
       "    }\n",
       "    if (root.Bokeh !== undefined) {\n",
       "      if (el != null) {\n",
       "        el.textContent = \"BokehJS \" + root.Bokeh.version + \" successfully loaded.\";\n",
       "      }\n",
       "    } else if (Date.now() < root._bokeh_timeout) {\n",
       "      setTimeout(display_loaded, 100)\n",
       "    }\n",
       "  }\n",
       "\n",
       "\n",
       "  function run_callbacks() {\n",
       "    try {\n",
       "      root._bokeh_onload_callbacks.forEach(function(callback) {\n",
       "        if (callback != null)\n",
       "          callback();\n",
       "      });\n",
       "    } finally {\n",
       "      delete root._bokeh_onload_callbacks\n",
       "    }\n",
       "    console.debug(\"Bokeh: all callbacks have finished\");\n",
       "  }\n",
       "\n",
       "  function load_libs(css_urls, js_urls, callback) {\n",
       "    if (css_urls == null) css_urls = [];\n",
       "    if (js_urls == null) js_urls = [];\n",
       "\n",
       "    root._bokeh_onload_callbacks.push(callback);\n",
       "    if (root._bokeh_is_loading > 0) {\n",
       "      console.debug(\"Bokeh: BokehJS is being loaded, scheduling callback at\", now());\n",
       "      return null;\n",
       "    }\n",
       "    if (js_urls == null || js_urls.length === 0) {\n",
       "      run_callbacks();\n",
       "      return null;\n",
       "    }\n",
       "    console.debug(\"Bokeh: BokehJS not loaded, scheduling load and callback at\", now());\n",
       "    root._bokeh_is_loading = css_urls.length + js_urls.length;\n",
       "\n",
       "    function on_load() {\n",
       "      root._bokeh_is_loading--;\n",
       "      if (root._bokeh_is_loading === 0) {\n",
       "        console.debug(\"Bokeh: all BokehJS libraries/stylesheets loaded\");\n",
       "        run_callbacks()\n",
       "      }\n",
       "    }\n",
       "\n",
       "    function on_error() {\n",
       "      console.error(\"failed to load \" + url);\n",
       "    }\n",
       "\n",
       "    for (var i = 0; i < css_urls.length; i++) {\n",
       "      var url = css_urls[i];\n",
       "      const element = document.createElement(\"link\");\n",
       "      element.onload = on_load;\n",
       "      element.onerror = on_error;\n",
       "      element.rel = \"stylesheet\";\n",
       "      element.type = \"text/css\";\n",
       "      element.href = url;\n",
       "      console.debug(\"Bokeh: injecting link tag for BokehJS stylesheet: \", url);\n",
       "      document.body.appendChild(element);\n",
       "    }\n",
       "\n",
       "    const hashes = {\"https://cdn.bokeh.org/bokeh/release/bokeh-2.0.2.min.js\": \"ufR9RFnRs6lniiaFvtJziE0YeidtAgBRH6ux2oUItHw5WTvE1zuk9uzhUU/FJXDp\", \"https://cdn.bokeh.org/bokeh/release/bokeh-widgets-2.0.2.min.js\": \"8QM/PGWBT+IssZuRcDcjzwIh1mkOmJSoNMmyYDZbCfXJg3Ap1lEvdVgFuSAwhb/J\", \"https://cdn.bokeh.org/bokeh/release/bokeh-tables-2.0.2.min.js\": \"Jm8cH3Rg0P6UeZhVY5cLy1WzKajUT9KImCY+76hEqrcJt59/d8GPvFHjCkYgnSIn\", \"https://cdn.bokeh.org/bokeh/release/bokeh-gl-2.0.2.min.js\": \"Ozhzj+SI7ywm74aOI/UajcWz+C0NjsPunEVyVIrxzYkB+jA+2tUw8x5xJCbVtK5I\"};\n",
       "\n",
       "    for (var i = 0; i < js_urls.length; i++) {\n",
       "      var url = js_urls[i];\n",
       "      var element = document.createElement('script');\n",
       "      element.onload = on_load;\n",
       "      element.onerror = on_error;\n",
       "      element.async = false;\n",
       "      element.src = url;\n",
       "      if (url in hashes) {\n",
       "        element.crossOrigin = \"anonymous\";\n",
       "        element.integrity = \"sha384-\" + hashes[url];\n",
       "      }\n",
       "      console.debug(\"Bokeh: injecting script tag for BokehJS library: \", url);\n",
       "      document.head.appendChild(element);\n",
       "    }\n",
       "  };\n",
       "\n",
       "  function inject_raw_css(css) {\n",
       "    const element = document.createElement(\"style\");\n",
       "    element.appendChild(document.createTextNode(css));\n",
       "    document.body.appendChild(element);\n",
       "  }\n",
       "\n",
       "  \n",
       "  var js_urls = [\"https://cdn.bokeh.org/bokeh/release/bokeh-2.0.2.min.js\", \"https://cdn.bokeh.org/bokeh/release/bokeh-widgets-2.0.2.min.js\", \"https://cdn.bokeh.org/bokeh/release/bokeh-tables-2.0.2.min.js\", \"https://cdn.bokeh.org/bokeh/release/bokeh-gl-2.0.2.min.js\"];\n",
       "  var css_urls = [];\n",
       "  \n",
       "\n",
       "  var inline_js = [\n",
       "    function(Bokeh) {\n",
       "      Bokeh.set_log_level(\"info\");\n",
       "    },\n",
       "    function(Bokeh) {\n",
       "    \n",
       "    \n",
       "    }\n",
       "  ];\n",
       "\n",
       "  function run_inline_js() {\n",
       "    \n",
       "    if (root.Bokeh !== undefined || force === true) {\n",
       "      \n",
       "    for (var i = 0; i < inline_js.length; i++) {\n",
       "      inline_js[i].call(root, root.Bokeh);\n",
       "    }\n",
       "    if (force === true) {\n",
       "        display_loaded();\n",
       "      }} else if (Date.now() < root._bokeh_timeout) {\n",
       "      setTimeout(run_inline_js, 100);\n",
       "    } else if (!root._bokeh_failed_load) {\n",
       "      console.log(\"Bokeh: BokehJS failed to load within specified timeout.\");\n",
       "      root._bokeh_failed_load = true;\n",
       "    } else if (force !== true) {\n",
       "      var cell = $(document.getElementById(\"1001\")).parents('.cell').data().cell;\n",
       "      cell.output_area.append_execute_result(NB_LOAD_WARNING)\n",
       "    }\n",
       "\n",
       "  }\n",
       "\n",
       "  if (root._bokeh_is_loading === 0) {\n",
       "    console.debug(\"Bokeh: BokehJS loaded, going straight to plotting\");\n",
       "    run_inline_js();\n",
       "  } else {\n",
       "    load_libs(css_urls, js_urls, function() {\n",
       "      console.debug(\"Bokeh: BokehJS plotting callback run at\", now());\n",
       "      run_inline_js();\n",
       "    });\n",
       "  }\n",
       "}(window));"
      ],
      "application/vnd.bokehjs_load.v0+json": "\n(function(root) {\n  function now() {\n    return new Date();\n  }\n\n  var force = true;\n\n  if (typeof root._bokeh_onload_callbacks === \"undefined\" || force === true) {\n    root._bokeh_onload_callbacks = [];\n    root._bokeh_is_loading = undefined;\n  }\n\n  \n\n  \n  if (typeof (root._bokeh_timeout) === \"undefined\" || force === true) {\n    root._bokeh_timeout = Date.now() + 5000;\n    root._bokeh_failed_load = false;\n  }\n\n  var NB_LOAD_WARNING = {'data': {'text/html':\n     \"<div style='background-color: #fdd'>\\n\"+\n     \"<p>\\n\"+\n     \"BokehJS does not appear to have successfully loaded. If loading BokehJS from CDN, this \\n\"+\n     \"may be due to a slow or bad network connection. Possible fixes:\\n\"+\n     \"</p>\\n\"+\n     \"<ul>\\n\"+\n     \"<li>re-rerun `output_notebook()` to attempt to load from CDN again, or</li>\\n\"+\n     \"<li>use INLINE resources instead, as so:</li>\\n\"+\n     \"</ul>\\n\"+\n     \"<code>\\n\"+\n     \"from bokeh.resources import INLINE\\n\"+\n     \"output_notebook(resources=INLINE)\\n\"+\n     \"</code>\\n\"+\n     \"</div>\"}};\n\n  function display_loaded() {\n    var el = document.getElementById(\"1001\");\n    if (el != null) {\n      el.textContent = \"BokehJS is loading...\";\n    }\n    if (root.Bokeh !== undefined) {\n      if (el != null) {\n        el.textContent = \"BokehJS \" + root.Bokeh.version + \" successfully loaded.\";\n      }\n    } else if (Date.now() < root._bokeh_timeout) {\n      setTimeout(display_loaded, 100)\n    }\n  }\n\n\n  function run_callbacks() {\n    try {\n      root._bokeh_onload_callbacks.forEach(function(callback) {\n        if (callback != null)\n          callback();\n      });\n    } finally {\n      delete root._bokeh_onload_callbacks\n    }\n    console.debug(\"Bokeh: all callbacks have finished\");\n  }\n\n  function load_libs(css_urls, js_urls, callback) {\n    if (css_urls == null) css_urls = [];\n    if (js_urls == null) js_urls = [];\n\n    root._bokeh_onload_callbacks.push(callback);\n    if (root._bokeh_is_loading > 0) {\n      console.debug(\"Bokeh: BokehJS is being loaded, scheduling callback at\", now());\n      return null;\n    }\n    if (js_urls == null || js_urls.length === 0) {\n      run_callbacks();\n      return null;\n    }\n    console.debug(\"Bokeh: BokehJS not loaded, scheduling load and callback at\", now());\n    root._bokeh_is_loading = css_urls.length + js_urls.length;\n\n    function on_load() {\n      root._bokeh_is_loading--;\n      if (root._bokeh_is_loading === 0) {\n        console.debug(\"Bokeh: all BokehJS libraries/stylesheets loaded\");\n        run_callbacks()\n      }\n    }\n\n    function on_error() {\n      console.error(\"failed to load \" + url);\n    }\n\n    for (var i = 0; i < css_urls.length; i++) {\n      var url = css_urls[i];\n      const element = document.createElement(\"link\");\n      element.onload = on_load;\n      element.onerror = on_error;\n      element.rel = \"stylesheet\";\n      element.type = \"text/css\";\n      element.href = url;\n      console.debug(\"Bokeh: injecting link tag for BokehJS stylesheet: \", url);\n      document.body.appendChild(element);\n    }\n\n    const hashes = {\"https://cdn.bokeh.org/bokeh/release/bokeh-2.0.2.min.js\": \"ufR9RFnRs6lniiaFvtJziE0YeidtAgBRH6ux2oUItHw5WTvE1zuk9uzhUU/FJXDp\", \"https://cdn.bokeh.org/bokeh/release/bokeh-widgets-2.0.2.min.js\": \"8QM/PGWBT+IssZuRcDcjzwIh1mkOmJSoNMmyYDZbCfXJg3Ap1lEvdVgFuSAwhb/J\", \"https://cdn.bokeh.org/bokeh/release/bokeh-tables-2.0.2.min.js\": \"Jm8cH3Rg0P6UeZhVY5cLy1WzKajUT9KImCY+76hEqrcJt59/d8GPvFHjCkYgnSIn\", \"https://cdn.bokeh.org/bokeh/release/bokeh-gl-2.0.2.min.js\": \"Ozhzj+SI7ywm74aOI/UajcWz+C0NjsPunEVyVIrxzYkB+jA+2tUw8x5xJCbVtK5I\"};\n\n    for (var i = 0; i < js_urls.length; i++) {\n      var url = js_urls[i];\n      var element = document.createElement('script');\n      element.onload = on_load;\n      element.onerror = on_error;\n      element.async = false;\n      element.src = url;\n      if (url in hashes) {\n        element.crossOrigin = \"anonymous\";\n        element.integrity = \"sha384-\" + hashes[url];\n      }\n      console.debug(\"Bokeh: injecting script tag for BokehJS library: \", url);\n      document.head.appendChild(element);\n    }\n  };\n\n  function inject_raw_css(css) {\n    const element = document.createElement(\"style\");\n    element.appendChild(document.createTextNode(css));\n    document.body.appendChild(element);\n  }\n\n  \n  var js_urls = [\"https://cdn.bokeh.org/bokeh/release/bokeh-2.0.2.min.js\", \"https://cdn.bokeh.org/bokeh/release/bokeh-widgets-2.0.2.min.js\", \"https://cdn.bokeh.org/bokeh/release/bokeh-tables-2.0.2.min.js\", \"https://cdn.bokeh.org/bokeh/release/bokeh-gl-2.0.2.min.js\"];\n  var css_urls = [];\n  \n\n  var inline_js = [\n    function(Bokeh) {\n      Bokeh.set_log_level(\"info\");\n    },\n    function(Bokeh) {\n    \n    \n    }\n  ];\n\n  function run_inline_js() {\n    \n    if (root.Bokeh !== undefined || force === true) {\n      \n    for (var i = 0; i < inline_js.length; i++) {\n      inline_js[i].call(root, root.Bokeh);\n    }\n    if (force === true) {\n        display_loaded();\n      }} else if (Date.now() < root._bokeh_timeout) {\n      setTimeout(run_inline_js, 100);\n    } else if (!root._bokeh_failed_load) {\n      console.log(\"Bokeh: BokehJS failed to load within specified timeout.\");\n      root._bokeh_failed_load = true;\n    } else if (force !== true) {\n      var cell = $(document.getElementById(\"1001\")).parents('.cell').data().cell;\n      cell.output_area.append_execute_result(NB_LOAD_WARNING)\n    }\n\n  }\n\n  if (root._bokeh_is_loading === 0) {\n    console.debug(\"Bokeh: BokehJS loaded, going straight to plotting\");\n    run_inline_js();\n  } else {\n    load_libs(css_urls, js_urls, function() {\n      console.debug(\"Bokeh: BokehJS plotting callback run at\", now());\n      run_inline_js();\n    });\n  }\n}(window));"
     },
     "metadata": {},
     "output_type": "display_data"
    }
   ],
   "source": [
    "from plots import *\n",
    "from bokeh.io import output_notebook\n",
    "from bokeh.plotting import figure, show\n",
    "output_notebook()"
   ]
  },
  {
   "cell_type": "markdown",
   "metadata": {},
   "source": [
    "We will be using [bokeh](https://bokeh.org/) for drawing the football pitch and plot the events. I prepared 2 python functions to simplify both tasks:\n",
    " * ```draw_pitch()```: Function to draw an empty pitch\n",
    " * ```plot_events(player_events, event_name, plot_color)```: Function that takes as input the events DataFrame, event name and a color; and plots the events on a football pitch\n",
    " \n",
    "You can find the soure code of both functions [here](https://github.com/adilmoujahid/streamlit-messi-ronaldo/blob/master/plots.py)."
   ]
  },
  {
   "cell_type": "code",
   "execution_count": 28,
   "metadata": {},
   "outputs": [],
   "source": [
    "messi_goals = messi_events_data_df[messi_events_data_df['goal'] == True]['positions']"
   ]
  },
  {
   "cell_type": "code",
   "execution_count": 29,
   "metadata": {},
   "outputs": [],
   "source": [
    "p_messi = plot_events(messi_goals, 'Goals', 'red')"
   ]
  },
  {
   "cell_type": "code",
   "execution_count": 30,
   "metadata": {},
   "outputs": [
    {
     "data": {
      "text/html": [
       "\n",
       "\n",
       "\n",
       "\n",
       "\n",
       "\n",
       "  <div class=\"bk-root\" id=\"f5f55798-670b-43d7-bf5e-217c1ae424e9\" data-root-id=\"1002\"></div>\n"
      ]
     },
     "metadata": {},
     "output_type": "display_data"
    },
    {
     "data": {
      "application/javascript": [
       "(function(root) {\n",
       "  function embed_document(root) {\n",
       "    \n",
       "  var docs_json = {\"f6371940-4a85-41c7-a701-05e3d7d87eaf\":{\"roots\":{\"references\":[{\"attributes\":{\"below\":[{\"id\":\"1011\"}],\"center\":[{\"id\":\"1014\"},{\"id\":\"1018\"},{\"id\":\"1108\"}],\"left\":[{\"id\":\"1015\"}],\"plot_height\":295,\"plot_width\":450,\"renderers\":[{\"id\":\"1036\"},{\"id\":\"1041\"},{\"id\":\"1046\"},{\"id\":\"1051\"},{\"id\":\"1056\"},{\"id\":\"1061\"},{\"id\":\"1066\"},{\"id\":\"1071\"},{\"id\":\"1076\"},{\"id\":\"1081\"},{\"id\":\"1086\"},{\"id\":\"1091\"},{\"id\":\"1096\"},{\"id\":\"1101\"},{\"id\":\"1106\"}],\"title\":{\"id\":\"1109\"},\"toolbar\":{\"id\":\"1026\"},\"toolbar_location\":\"below\",\"x_range\":{\"id\":\"1003\"},\"x_scale\":{\"id\":\"1007\"},\"y_range\":{\"id\":\"1005\"},\"y_scale\":{\"id\":\"1009\"}},\"id\":\"1002\",\"subtype\":\"Figure\",\"type\":\"Plot\"},{\"attributes\":{\"fill_color\":{\"value\":\"white\"},\"line_color\":{\"value\":\"grey\"},\"line_width\":{\"value\":2},\"size\":{\"units\":\"screen\",\"value\":100},\"x\":{\"value\":52.0},\"y\":{\"value\":34.0}},\"id\":\"1089\",\"type\":\"Circle\"},{\"attributes\":{\"fill_color\":{\"value\":\"white\"},\"height\":{\"units\":\"data\",\"value\":68},\"line_color\":{\"value\":\"grey\"},\"line_width\":{\"value\":2},\"width\":{\"units\":\"data\",\"value\":104},\"x\":{\"value\":52.0},\"y\":{\"value\":34.0}},\"id\":\"1034\",\"type\":\"Rect\"},{\"attributes\":{\"data\":{},\"selected\":{\"id\":\"1136\"},\"selection_policy\":{\"id\":\"1135\"}},\"id\":\"1083\",\"type\":\"ColumnDataSource\"},{\"attributes\":{\"data_source\":{\"id\":\"1083\"},\"glyph\":{\"id\":\"1084\"},\"hover_glyph\":null,\"muted_glyph\":null,\"nonselection_glyph\":{\"id\":\"1085\"},\"selection_glyph\":null,\"view\":{\"id\":\"1087\"}},\"id\":\"1086\",\"type\":\"GlyphRenderer\"},{\"attributes\":{\"data_source\":{\"id\":\"1088\"},\"glyph\":{\"id\":\"1089\"},\"hover_glyph\":null,\"muted_glyph\":null,\"nonselection_glyph\":{\"id\":\"1090\"},\"selection_glyph\":null,\"view\":{\"id\":\"1092\"}},\"id\":\"1091\",\"type\":\"GlyphRenderer\"},{\"attributes\":{\"source\":{\"id\":\"1083\"}},\"id\":\"1087\",\"type\":\"CDSView\"},{\"attributes\":{\"fill_alpha\":{\"value\":0.1},\"fill_color\":{\"value\":\"grey\"},\"height\":{\"units\":\"data\",\"value\":7.3},\"line_alpha\":{\"value\":0.1},\"line_color\":{\"value\":\"grey\"},\"line_width\":{\"value\":2},\"width\":{\"units\":\"data\",\"value\":0.5},\"x\":{\"value\":104},\"y\":{\"value\":34.0}},\"id\":\"1080\",\"type\":\"Rect\"},{\"attributes\":{\"data_source\":{\"id\":\"1078\"},\"glyph\":{\"id\":\"1079\"},\"hover_glyph\":null,\"muted_glyph\":null,\"nonselection_glyph\":{\"id\":\"1080\"},\"selection_glyph\":null,\"view\":{\"id\":\"1082\"}},\"id\":\"1081\",\"type\":\"GlyphRenderer\"},{\"attributes\":{\"data\":{},\"selected\":{\"id\":\"1138\"},\"selection_policy\":{\"id\":\"1137\"}},\"id\":\"1088\",\"type\":\"ColumnDataSource\"},{\"attributes\":{\"fill_color\":{\"value\":\"grey\"},\"line_color\":{\"value\":\"grey\"},\"line_width\":{\"value\":2},\"size\":{\"units\":\"screen\",\"value\":2},\"x\":{\"value\":52.0},\"y\":{\"value\":34.0}},\"id\":\"1094\",\"type\":\"Circle\"},{\"attributes\":{\"bottom_units\":\"screen\",\"fill_alpha\":0.5,\"fill_color\":\"lightgrey\",\"left_units\":\"screen\",\"level\":\"overlay\",\"line_alpha\":1.0,\"line_color\":\"black\",\"line_dash\":[4,4],\"line_width\":2,\"render_mode\":\"css\",\"right_units\":\"screen\",\"top_units\":\"screen\"},\"id\":\"1025\",\"type\":\"BoxAnnotation\"},{\"attributes\":{\"fill_color\":{\"value\":\"grey\"},\"line_color\":{\"value\":\"grey\"},\"line_width\":{\"value\":2},\"size\":{\"units\":\"screen\",\"value\":2},\"x\":{\"value\":93},\"y\":{\"value\":34.0}},\"id\":\"1084\",\"type\":\"Circle\"},{\"attributes\":{\"data_source\":{\"id\":\"1093\"},\"glyph\":{\"id\":\"1094\"},\"hover_glyph\":null,\"muted_glyph\":null,\"nonselection_glyph\":{\"id\":\"1095\"},\"selection_glyph\":null,\"view\":{\"id\":\"1097\"}},\"id\":\"1096\",\"type\":\"GlyphRenderer\"},{\"attributes\":{\"source\":{\"id\":\"1043\"}},\"id\":\"1047\",\"type\":\"CDSView\"},{\"attributes\":{\"fill_alpha\":{\"value\":0.1},\"fill_color\":{\"value\":\"white\"},\"height\":{\"units\":\"data\",\"value\":40.3},\"line_alpha\":{\"value\":0.1},\"line_color\":{\"value\":\"grey\"},\"line_width\":{\"value\":2},\"width\":{\"units\":\"data\",\"value\":16.5},\"x\":{\"value\":95.75},\"y\":{\"value\":34.0}},\"id\":\"1070\",\"type\":\"Rect\"},{\"attributes\":{\"data\":{},\"selected\":{\"id\":\"1140\"},\"selection_policy\":{\"id\":\"1139\"}},\"id\":\"1093\",\"type\":\"ColumnDataSource\"},{\"attributes\":{\"fill_color\":{\"value\":\"white\"},\"height\":{\"units\":\"data\",\"value\":40.3},\"line_color\":{\"value\":\"grey\"},\"line_width\":{\"value\":2},\"width\":{\"units\":\"data\",\"value\":16.5},\"x\":{\"value\":8.25},\"y\":{\"value\":34.0}},\"id\":\"1044\",\"type\":\"Rect\"},{\"attributes\":{\"data_source\":{\"id\":\"1038\"},\"glyph\":{\"id\":\"1039\"},\"hover_glyph\":null,\"muted_glyph\":null,\"nonselection_glyph\":{\"id\":\"1040\"},\"selection_glyph\":null,\"view\":{\"id\":\"1042\"}},\"id\":\"1041\",\"type\":\"GlyphRenderer\"},{\"attributes\":{},\"id\":\"1127\",\"type\":\"UnionRenderers\"},{\"attributes\":{\"fill_alpha\":{\"value\":0.1},\"fill_color\":{\"value\":\"white\"},\"line_alpha\":{\"value\":0.1},\"line_color\":{\"value\":\"grey\"},\"line_width\":{\"value\":2},\"size\":{\"units\":\"screen\",\"value\":100},\"x\":{\"value\":52.0},\"y\":{\"value\":34.0}},\"id\":\"1090\",\"type\":\"Circle\"},{\"attributes\":{\"data\":{},\"selected\":{\"id\":\"1120\"},\"selection_policy\":{\"id\":\"1119\"}},\"id\":\"1043\",\"type\":\"ColumnDataSource\"},{\"attributes\":{\"source\":{\"id\":\"1088\"}},\"id\":\"1092\",\"type\":\"CDSView\"},{\"attributes\":{\"fill_color\":{\"value\":\"white\"},\"height\":{\"units\":\"data\",\"value\":40.3},\"line_color\":{\"value\":\"grey\"},\"line_width\":{\"value\":2},\"width\":{\"units\":\"data\",\"value\":16.5},\"x\":{\"value\":95.75},\"y\":{\"value\":34.0}},\"id\":\"1069\",\"type\":\"Rect\"},{\"attributes\":{\"line_color\":\"grey\",\"line_width\":2,\"x\":{\"field\":\"x\"},\"y\":{\"field\":\"y\"}},\"id\":\"1099\",\"type\":\"Line\"},{\"attributes\":{\"fill_alpha\":{\"value\":0.1},\"fill_color\":{\"value\":\"white\"},\"line_alpha\":{\"value\":0.1},\"line_color\":{\"value\":\"grey\"},\"line_width\":{\"value\":2},\"size\":{\"units\":\"screen\",\"value\":50},\"x\":{\"value\":16.5},\"y\":{\"value\":34.0}},\"id\":\"1040\",\"type\":\"Circle\"},{\"attributes\":{\"data\":{},\"selected\":{\"id\":\"1130\"},\"selection_policy\":{\"id\":\"1129\"}},\"id\":\"1068\",\"type\":\"ColumnDataSource\"},{\"attributes\":{\"axis\":{\"id\":\"1015\"},\"dimension\":1,\"ticker\":null},\"id\":\"1018\",\"type\":\"Grid\"},{\"attributes\":{\"source\":{\"id\":\"1038\"}},\"id\":\"1042\",\"type\":\"CDSView\"},{\"attributes\":{\"data\":{\"x\":[52.0,52.0],\"y\":[0,68]},\"selected\":{\"id\":\"1142\"},\"selection_policy\":{\"id\":\"1141\"}},\"id\":\"1098\",\"type\":\"ColumnDataSource\"},{\"attributes\":{\"source\":{\"id\":\"1048\"}},\"id\":\"1052\",\"type\":\"CDSView\"},{\"attributes\":{\"fill_color\":{\"value\":\"white\"},\"height\":{\"units\":\"data\",\"value\":18.3},\"line_color\":{\"value\":\"grey\"},\"line_width\":{\"value\":2},\"width\":{\"units\":\"data\",\"value\":5.5},\"x\":{\"value\":2.75},\"y\":{\"value\":34.0}},\"id\":\"1049\",\"type\":\"Rect\"},{\"attributes\":{\"fill_alpha\":{\"value\":0.1},\"fill_color\":{\"value\":\"grey\"},\"line_alpha\":{\"value\":0.1},\"line_color\":{\"value\":\"grey\"},\"line_width\":{\"value\":2},\"size\":{\"units\":\"screen\",\"value\":2},\"x\":{\"value\":52.0},\"y\":{\"value\":34.0}},\"id\":\"1095\",\"type\":\"Circle\"},{\"attributes\":{\"data_source\":{\"id\":\"1043\"},\"glyph\":{\"id\":\"1044\"},\"hover_glyph\":null,\"muted_glyph\":null,\"nonselection_glyph\":{\"id\":\"1045\"},\"selection_glyph\":null,\"view\":{\"id\":\"1047\"}},\"id\":\"1046\",\"type\":\"GlyphRenderer\"},{\"attributes\":{\"source\":{\"id\":\"1093\"}},\"id\":\"1097\",\"type\":\"CDSView\"},{\"attributes\":{\"data_source\":{\"id\":\"1098\"},\"glyph\":{\"id\":\"1099\"},\"hover_glyph\":null,\"muted_glyph\":null,\"nonselection_glyph\":{\"id\":\"1100\"},\"selection_glyph\":null,\"view\":{\"id\":\"1102\"}},\"id\":\"1101\",\"type\":\"GlyphRenderer\"},{\"attributes\":{},\"id\":\"1016\",\"type\":\"BasicTicker\"},{\"attributes\":{\"fill_alpha\":{\"value\":0.1},\"fill_color\":{\"value\":\"white\"},\"height\":{\"units\":\"data\",\"value\":40.3},\"line_alpha\":{\"value\":0.1},\"line_color\":{\"value\":\"grey\"},\"line_width\":{\"value\":2},\"width\":{\"units\":\"data\",\"value\":16.5},\"x\":{\"value\":8.25},\"y\":{\"value\":34.0}},\"id\":\"1045\",\"type\":\"Rect\"},{\"attributes\":{\"source\":{\"id\":\"1098\"}},\"id\":\"1102\",\"type\":\"CDSView\"},{\"attributes\":{\"fill_alpha\":{\"value\":0.2},\"fill_color\":{\"value\":\"red\"},\"line_color\":{\"value\":\"grey\"},\"size\":{\"units\":\"screen\",\"value\":8},\"x\":{\"field\":\"x\"},\"y\":{\"field\":\"y\"}},\"id\":\"1104\",\"type\":\"Circle\"},{\"attributes\":{\"data\":{},\"selected\":{\"id\":\"1122\"},\"selection_policy\":{\"id\":\"1121\"}},\"id\":\"1048\",\"type\":\"ColumnDataSource\"},{\"attributes\":{\"fill_color\":{\"value\":\"white\"},\"height\":{\"units\":\"data\",\"value\":18.3},\"line_color\":{\"value\":\"grey\"},\"line_width\":{\"value\":2},\"width\":{\"units\":\"data\",\"value\":5.5},\"x\":{\"value\":101.25},\"y\":{\"value\":34.0}},\"id\":\"1074\",\"type\":\"Rect\"},{\"attributes\":{\"source\":{\"id\":\"1053\"}},\"id\":\"1057\",\"type\":\"CDSView\"},{\"attributes\":{\"line_alpha\":0.1,\"line_color\":\"grey\",\"line_width\":2,\"x\":{\"field\":\"x\"},\"y\":{\"field\":\"y\"}},\"id\":\"1100\",\"type\":\"Line\"},{\"attributes\":{\"data_source\":{\"id\":\"1103\"},\"glyph\":{\"id\":\"1104\"},\"hover_glyph\":null,\"muted_glyph\":null,\"nonselection_glyph\":{\"id\":\"1105\"},\"selection_glyph\":null,\"view\":{\"id\":\"1107\"}},\"id\":\"1106\",\"type\":\"GlyphRenderer\"},{\"attributes\":{\"fill_color\":{\"value\":\"grey\"},\"height\":{\"units\":\"data\",\"value\":7.3},\"line_color\":{\"value\":\"grey\"},\"line_width\":{\"value\":2},\"width\":{\"units\":\"data\",\"value\":0.5},\"x\":{\"value\":0},\"y\":{\"value\":34.0}},\"id\":\"1054\",\"type\":\"Rect\"},{\"attributes\":{\"data_source\":{\"id\":\"1048\"},\"glyph\":{\"id\":\"1049\"},\"hover_glyph\":null,\"muted_glyph\":null,\"nonselection_glyph\":{\"id\":\"1050\"},\"selection_glyph\":null,\"view\":{\"id\":\"1052\"}},\"id\":\"1051\",\"type\":\"GlyphRenderer\"},{\"attributes\":{\"data\":{\"x\":[94.64,90.48,94.64,100.88,94.64,92.56,89.44,94.64,93.6,99.84,95.68,92.56,94.64,92.56,92.56,94.64,76.96,89.44,91.52,83.2,91.52,81.12,85.28,78.0,84.24,80.08,80.08,89.44,99.84,100.88,99.84,98.8,94.64,90.48],\"y\":[25.16,28.56,32.64,28.56,31.28,34.0,30.6,43.52,40.12,36.72,38.08,27.2,25.84,40.8,34.0,29.24,26.52,27.88,27.88,44.2,35.36,30.6,39.44,39.44,35.36,32.64,47.6,34.0,36.04,29.24,23.8,37.4,32.64,30.6]},\"selected\":{\"id\":\"1144\"},\"selection_policy\":{\"id\":\"1143\"}},\"id\":\"1103\",\"type\":\"ColumnDataSource\"},{\"attributes\":{\"formatter\":{\"id\":\"1113\"},\"ticker\":{\"id\":\"1016\"}},\"id\":\"1015\",\"type\":\"LinearAxis\"},{\"attributes\":{\"fill_alpha\":{\"value\":0.1},\"fill_color\":{\"value\":\"white\"},\"height\":{\"units\":\"data\",\"value\":18.3},\"line_alpha\":{\"value\":0.1},\"line_color\":{\"value\":\"grey\"},\"line_width\":{\"value\":2},\"width\":{\"units\":\"data\",\"value\":5.5},\"x\":{\"value\":2.75},\"y\":{\"value\":34.0}},\"id\":\"1050\",\"type\":\"Rect\"},{\"attributes\":{\"data\":{},\"selected\":{\"id\":\"1124\"},\"selection_policy\":{\"id\":\"1123\"}},\"id\":\"1053\",\"type\":\"ColumnDataSource\"},{\"attributes\":{},\"id\":\"1005\",\"type\":\"DataRange1d\"},{\"attributes\":{\"background_fill_alpha\":0.3,\"background_fill_color\":\"red\",\"render_mode\":\"css\",\"text\":\"34 Goals\",\"text_font_size\":\"20px\",\"x\":70,\"x_units\":\"screen\",\"y\":190,\"y_units\":\"screen\"},\"id\":\"1108\",\"type\":\"Label\"},{\"attributes\":{\"source\":{\"id\":\"1103\"}},\"id\":\"1107\",\"type\":\"CDSView\"},{\"attributes\":{\"fill_alpha\":{\"value\":0.1},\"fill_color\":{\"value\":\"red\"},\"line_alpha\":{\"value\":0.1},\"line_color\":{\"value\":\"grey\"},\"size\":{\"units\":\"screen\",\"value\":8},\"x\":{\"field\":\"x\"},\"y\":{\"field\":\"y\"}},\"id\":\"1105\",\"type\":\"Circle\"},{\"attributes\":{\"data_source\":{\"id\":\"1053\"},\"glyph\":{\"id\":\"1054\"},\"hover_glyph\":null,\"muted_glyph\":null,\"nonselection_glyph\":{\"id\":\"1055\"},\"selection_glyph\":null,\"view\":{\"id\":\"1057\"}},\"id\":\"1056\",\"type\":\"GlyphRenderer\"},{\"attributes\":{\"fill_alpha\":{\"value\":0.1},\"fill_color\":{\"value\":\"grey\"},\"height\":{\"units\":\"data\",\"value\":7.3},\"line_alpha\":{\"value\":0.1},\"line_color\":{\"value\":\"grey\"},\"line_width\":{\"value\":2},\"width\":{\"units\":\"data\",\"value\":0.5},\"x\":{\"value\":0},\"y\":{\"value\":34.0}},\"id\":\"1055\",\"type\":\"Rect\"},{\"attributes\":{\"data\":{},\"selected\":{\"id\":\"1126\"},\"selection_policy\":{\"id\":\"1125\"}},\"id\":\"1058\",\"type\":\"ColumnDataSource\"},{\"attributes\":{\"fill_color\":{\"value\":\"grey\"},\"line_color\":{\"value\":\"grey\"},\"line_width\":{\"value\":2},\"size\":{\"units\":\"screen\",\"value\":2},\"x\":{\"value\":11},\"y\":{\"value\":34.0}},\"id\":\"1059\",\"type\":\"Circle\"},{\"attributes\":{\"data_source\":{\"id\":\"1058\"},\"glyph\":{\"id\":\"1059\"},\"hover_glyph\":null,\"muted_glyph\":null,\"nonselection_glyph\":{\"id\":\"1060\"},\"selection_glyph\":null,\"view\":{\"id\":\"1062\"}},\"id\":\"1061\",\"type\":\"GlyphRenderer\"},{\"attributes\":{},\"id\":\"1124\",\"type\":\"Selection\"},{\"attributes\":{\"source\":{\"id\":\"1078\"}},\"id\":\"1082\",\"type\":\"CDSView\"},{\"attributes\":{\"source\":{\"id\":\"1063\"}},\"id\":\"1067\",\"type\":\"CDSView\"},{\"attributes\":{\"text\":\"\"},\"id\":\"1109\",\"type\":\"Title\"},{\"attributes\":{},\"id\":\"1111\",\"type\":\"BasicTickFormatter\"},{\"attributes\":{},\"id\":\"1113\",\"type\":\"BasicTickFormatter\"},{\"attributes\":{\"fill_alpha\":{\"value\":0.1},\"fill_color\":{\"value\":\"grey\"},\"line_alpha\":{\"value\":0.1},\"line_color\":{\"value\":\"grey\"},\"line_width\":{\"value\":2},\"size\":{\"units\":\"screen\",\"value\":2},\"x\":{\"value\":11},\"y\":{\"value\":34.0}},\"id\":\"1060\",\"type\":\"Circle\"},{\"attributes\":{\"fill_alpha\":{\"value\":0.1},\"fill_color\":{\"value\":\"white\"},\"height\":{\"units\":\"data\",\"value\":18.3},\"line_alpha\":{\"value\":0.1},\"line_color\":{\"value\":\"grey\"},\"line_width\":{\"value\":2},\"width\":{\"units\":\"data\",\"value\":5.5},\"x\":{\"value\":101.25},\"y\":{\"value\":34.0}},\"id\":\"1075\",\"type\":\"Rect\"},{\"attributes\":{\"source\":{\"id\":\"1058\"}},\"id\":\"1062\",\"type\":\"CDSView\"},{\"attributes\":{\"fill_alpha\":{\"value\":0.1},\"fill_color\":{\"value\":\"grey\"},\"line_alpha\":{\"value\":0.1},\"line_color\":{\"value\":\"grey\"},\"line_width\":{\"value\":2},\"size\":{\"units\":\"screen\",\"value\":2},\"x\":{\"value\":93},\"y\":{\"value\":34.0}},\"id\":\"1085\",\"type\":\"Circle\"},{\"attributes\":{},\"id\":\"1115\",\"type\":\"UnionRenderers\"},{\"attributes\":{},\"id\":\"1122\",\"type\":\"Selection\"},{\"attributes\":{},\"id\":\"1128\",\"type\":\"Selection\"},{\"attributes\":{},\"id\":\"1116\",\"type\":\"Selection\"},{\"attributes\":{},\"id\":\"1117\",\"type\":\"UnionRenderers\"},{\"attributes\":{},\"id\":\"1118\",\"type\":\"Selection\"},{\"attributes\":{},\"id\":\"1119\",\"type\":\"UnionRenderers\"},{\"attributes\":{},\"id\":\"1120\",\"type\":\"Selection\"},{\"attributes\":{},\"id\":\"1129\",\"type\":\"UnionRenderers\"},{\"attributes\":{},\"id\":\"1130\",\"type\":\"Selection\"},{\"attributes\":{\"source\":{\"id\":\"1068\"}},\"id\":\"1072\",\"type\":\"CDSView\"},{\"attributes\":{\"data_source\":{\"id\":\"1068\"},\"glyph\":{\"id\":\"1069\"},\"hover_glyph\":null,\"muted_glyph\":null,\"nonselection_glyph\":{\"id\":\"1070\"},\"selection_glyph\":null,\"view\":{\"id\":\"1072\"}},\"id\":\"1071\",\"type\":\"GlyphRenderer\"},{\"attributes\":{},\"id\":\"1131\",\"type\":\"UnionRenderers\"},{\"attributes\":{},\"id\":\"1132\",\"type\":\"Selection\"},{\"attributes\":{},\"id\":\"1003\",\"type\":\"DataRange1d\"},{\"attributes\":{},\"id\":\"1133\",\"type\":\"UnionRenderers\"},{\"attributes\":{\"fill_color\":{\"value\":\"white\"},\"line_color\":{\"value\":\"grey\"},\"line_width\":{\"value\":2},\"size\":{\"units\":\"screen\",\"value\":50},\"x\":{\"value\":87.5},\"y\":{\"value\":34.0}},\"id\":\"1064\",\"type\":\"Circle\"},{\"attributes\":{},\"id\":\"1007\",\"type\":\"LinearScale\"},{\"attributes\":{},\"id\":\"1134\",\"type\":\"Selection\"},{\"attributes\":{},\"id\":\"1135\",\"type\":\"UnionRenderers\"},{\"attributes\":{},\"id\":\"1136\",\"type\":\"Selection\"},{\"attributes\":{\"fill_color\":{\"value\":\"grey\"},\"height\":{\"units\":\"data\",\"value\":7.3},\"line_color\":{\"value\":\"grey\"},\"line_width\":{\"value\":2},\"width\":{\"units\":\"data\",\"value\":0.5},\"x\":{\"value\":104},\"y\":{\"value\":34.0}},\"id\":\"1079\",\"type\":\"Rect\"},{\"attributes\":{},\"id\":\"1009\",\"type\":\"LinearScale\"},{\"attributes\":{},\"id\":\"1121\",\"type\":\"UnionRenderers\"},{\"attributes\":{},\"id\":\"1137\",\"type\":\"UnionRenderers\"},{\"attributes\":{\"formatter\":{\"id\":\"1111\"},\"ticker\":{\"id\":\"1012\"}},\"id\":\"1011\",\"type\":\"LinearAxis\"},{\"attributes\":{},\"id\":\"1138\",\"type\":\"Selection\"},{\"attributes\":{},\"id\":\"1012\",\"type\":\"BasicTicker\"},{\"attributes\":{},\"id\":\"1139\",\"type\":\"UnionRenderers\"},{\"attributes\":{},\"id\":\"1140\",\"type\":\"Selection\"},{\"attributes\":{\"fill_alpha\":{\"value\":0.1},\"fill_color\":{\"value\":\"white\"},\"height\":{\"units\":\"data\",\"value\":68},\"line_alpha\":{\"value\":0.1},\"line_color\":{\"value\":\"grey\"},\"line_width\":{\"value\":2},\"width\":{\"units\":\"data\",\"value\":104},\"x\":{\"value\":52.0},\"y\":{\"value\":34.0}},\"id\":\"1035\",\"type\":\"Rect\"},{\"attributes\":{\"data\":{},\"selected\":{\"id\":\"1134\"},\"selection_policy\":{\"id\":\"1133\"}},\"id\":\"1078\",\"type\":\"ColumnDataSource\"},{\"attributes\":{\"data_source\":{\"id\":\"1033\"},\"glyph\":{\"id\":\"1034\"},\"hover_glyph\":null,\"muted_glyph\":null,\"nonselection_glyph\":{\"id\":\"1035\"},\"selection_glyph\":null,\"view\":{\"id\":\"1037\"}},\"id\":\"1036\",\"type\":\"GlyphRenderer\"},{\"attributes\":{},\"id\":\"1141\",\"type\":\"UnionRenderers\"},{\"attributes\":{\"data\":{},\"selected\":{\"id\":\"1116\"},\"selection_policy\":{\"id\":\"1115\"}},\"id\":\"1033\",\"type\":\"ColumnDataSource\"},{\"attributes\":{},\"id\":\"1142\",\"type\":\"Selection\"},{\"attributes\":{\"fill_color\":{\"value\":\"white\"},\"line_color\":{\"value\":\"grey\"},\"line_width\":{\"value\":2},\"size\":{\"units\":\"screen\",\"value\":50},\"x\":{\"value\":16.5},\"y\":{\"value\":34.0}},\"id\":\"1039\",\"type\":\"Circle\"},{\"attributes\":{},\"id\":\"1019\",\"type\":\"PanTool\"},{\"attributes\":{},\"id\":\"1143\",\"type\":\"UnionRenderers\"},{\"attributes\":{},\"id\":\"1123\",\"type\":\"UnionRenderers\"},{\"attributes\":{},\"id\":\"1020\",\"type\":\"WheelZoomTool\"},{\"attributes\":{},\"id\":\"1144\",\"type\":\"Selection\"},{\"attributes\":{\"data_source\":{\"id\":\"1073\"},\"glyph\":{\"id\":\"1074\"},\"hover_glyph\":null,\"muted_glyph\":null,\"nonselection_glyph\":{\"id\":\"1075\"},\"selection_glyph\":null,\"view\":{\"id\":\"1077\"}},\"id\":\"1076\",\"type\":\"GlyphRenderer\"},{\"attributes\":{\"overlay\":{\"id\":\"1025\"}},\"id\":\"1021\",\"type\":\"BoxZoomTool\"},{\"attributes\":{\"source\":{\"id\":\"1073\"}},\"id\":\"1077\",\"type\":\"CDSView\"},{\"attributes\":{},\"id\":\"1022\",\"type\":\"SaveTool\"},{\"attributes\":{},\"id\":\"1023\",\"type\":\"ResetTool\"},{\"attributes\":{\"data\":{},\"selected\":{\"id\":\"1118\"},\"selection_policy\":{\"id\":\"1117\"}},\"id\":\"1038\",\"type\":\"ColumnDataSource\"},{\"attributes\":{\"data\":{},\"selected\":{\"id\":\"1132\"},\"selection_policy\":{\"id\":\"1131\"}},\"id\":\"1073\",\"type\":\"ColumnDataSource\"},{\"attributes\":{},\"id\":\"1024\",\"type\":\"HelpTool\"},{\"attributes\":{\"active_drag\":\"auto\",\"active_inspect\":\"auto\",\"active_multi\":null,\"active_scroll\":\"auto\",\"active_tap\":\"auto\",\"tools\":[{\"id\":\"1019\"},{\"id\":\"1020\"},{\"id\":\"1021\"},{\"id\":\"1022\"},{\"id\":\"1023\"},{\"id\":\"1024\"}]},\"id\":\"1026\",\"type\":\"Toolbar\"},{\"attributes\":{\"axis\":{\"id\":\"1011\"},\"ticker\":null},\"id\":\"1014\",\"type\":\"Grid\"},{\"attributes\":{\"data\":{},\"selected\":{\"id\":\"1128\"},\"selection_policy\":{\"id\":\"1127\"}},\"id\":\"1063\",\"type\":\"ColumnDataSource\"},{\"attributes\":{},\"id\":\"1125\",\"type\":\"UnionRenderers\"},{\"attributes\":{\"fill_alpha\":{\"value\":0.1},\"fill_color\":{\"value\":\"white\"},\"line_alpha\":{\"value\":0.1},\"line_color\":{\"value\":\"grey\"},\"line_width\":{\"value\":2},\"size\":{\"units\":\"screen\",\"value\":50},\"x\":{\"value\":87.5},\"y\":{\"value\":34.0}},\"id\":\"1065\",\"type\":\"Circle\"},{\"attributes\":{\"data_source\":{\"id\":\"1063\"},\"glyph\":{\"id\":\"1064\"},\"hover_glyph\":null,\"muted_glyph\":null,\"nonselection_glyph\":{\"id\":\"1065\"},\"selection_glyph\":null,\"view\":{\"id\":\"1067\"}},\"id\":\"1066\",\"type\":\"GlyphRenderer\"},{\"attributes\":{\"source\":{\"id\":\"1033\"}},\"id\":\"1037\",\"type\":\"CDSView\"},{\"attributes\":{},\"id\":\"1126\",\"type\":\"Selection\"}],\"root_ids\":[\"1002\"]},\"title\":\"Bokeh Application\",\"version\":\"2.0.2\"}};\n",
       "  var render_items = [{\"docid\":\"f6371940-4a85-41c7-a701-05e3d7d87eaf\",\"root_ids\":[\"1002\"],\"roots\":{\"1002\":\"f5f55798-670b-43d7-bf5e-217c1ae424e9\"}}];\n",
       "  root.Bokeh.embed.embed_items_notebook(docs_json, render_items);\n",
       "\n",
       "  }\n",
       "  if (root.Bokeh !== undefined) {\n",
       "    embed_document(root);\n",
       "  } else {\n",
       "    var attempts = 0;\n",
       "    var timer = setInterval(function(root) {\n",
       "      if (root.Bokeh !== undefined) {\n",
       "        clearInterval(timer);\n",
       "        embed_document(root);\n",
       "      } else {\n",
       "        attempts++;\n",
       "        if (attempts > 100) {\n",
       "          clearInterval(timer);\n",
       "          console.log(\"Bokeh: ERROR: Unable to run BokehJS code because BokehJS library is missing\");\n",
       "        }\n",
       "      }\n",
       "    }, 10, root)\n",
       "  }\n",
       "})(window);"
      ],
      "application/vnd.bokehjs_exec.v0+json": ""
     },
     "metadata": {
      "application/vnd.bokehjs_exec.v0+json": {
       "id": "1002"
      }
     },
     "output_type": "display_data"
    }
   ],
   "source": [
    "show(p_messi)"
   ]
  },
  {
   "cell_type": "markdown",
   "metadata": {},
   "source": [
    "# 3. Building the Web App"
   ]
  },
  {
   "cell_type": "markdown",
   "metadata": {},
   "source": [
    "Now that we understood how to read, structure and plot the data; we can start building the web app. The goal of the app is to compare the games of Messi and Ronaldo by focusing on: Goals, Assists, Shots, Free Kicks and Passes.\n",
    "\n",
    "The app will have one tab for each event type. In each tab, we will show statistics and positions of the events; and the breakdown of events count by game. The app will also have a filter that we can use to select the events by left/right foot.\n",
    "\n",
    "We will use an open-source app framework called [Streamlit](https://www.streamlit.io/). Streamlit is a python library that can be installed using a ```pip install``` command. Streamlit is an easy to use library that allows us to create web applications using Python only and without writing HTML/JS/CSS code."
   ]
  },
  {
   "cell_type": "markdown",
   "metadata": {},
   "source": [
    "You can download the source from [this github repo](https://github.com/adilmoujahid/streamlit-messi-ronaldo) and you can start the application by running the following command from your terminal ```streamlit run app.py``` and open [```http://localhost:8501```](http://localhost:8501) in your browser."
   ]
  },
  {
   "cell_type": "markdown",
   "metadata": {},
   "source": [
    "![Alt Text](/images/streamlit-messi-ronaldo.gif)"
   ]
  },
  {
   "cell_type": "markdown",
   "metadata": {},
   "source": [
    "## Breakdown of the code"
   ]
  },
  {
   "cell_type": "markdown",
   "metadata": {},
   "source": [
    "The First function ```get_data(foot)``` reads the pickle files and returns ```messi_events_data_df```, ```ronaldo_events_data_df```, ```barca_matches_dates_df``` and ```real_matches_dates_df``` DataFrames. It also filters the events by left/right foot if we pass ```Left``` or ```Right``` as parameter.\n",
    "\n",
    "The decorator ```@st.cache(allow_output_mutation=True)``` is used to update the data whenever we call the ```get_data(foot)``` function."
   ]
  },
  {
   "cell_type": "markdown",
   "metadata": {},
   "source": [
    "```python\n",
    "@st.cache(allow_output_mutation=True)\n",
    "def get_data(foot):\n",
    "    .\n",
    "    .\n",
    "    .\n",
    "    \n",
    "    return messi_events_data_df, ronaldo_events_data_df, barca_matches_dates_df, real_matches_dates_df\n",
    "```"
   ]
  },
  {
   "cell_type": "markdown",
   "metadata": {},
   "source": [
    "### Creating tabs for each event type"
   ]
  },
  {
   "cell_type": "markdown",
   "metadata": {},
   "source": [
    "Streamlit is a powerful library for buidling powerful web apps and user interfaces, however the current version of the library doesn't support the creation of tabs natively. In order to add tabs to the application, we will use Bokeh and the method described [here](https://discuss.streamlit.io/t/bokeh-can-provide-layouts-tabs-advanced-tables-and-js-callbacks-in-streamlit/1108).\n",
    "\n",
    "For each event type, we have a function that takes as input the 4 DataFrames, and for each player it draws the events positions on a football pitch and a table with the breakdown of events by game. The function combined the 2 plots and the 2 tables in a [Bokeh Grid](https://docs.bokeh.org/en/latest/docs/reference/layouts.html) and returns the the grid as a [Bokeh Panel](https://docs.bokeh.org/en/latest/docs/reference/models/layouts.html#bokeh.models.layouts.Panel)."
   ]
  },
  {
   "cell_type": "markdown",
   "metadata": {},
   "source": [
    "```python\n",
    "def plot_goals(messi_events_data_df, ronaldo_events_data_df, barca_matches_dates_df, real_matches_dates_df):\n",
    "\n",
    "    #Getting events data positions\n",
    "    messi_goals = messi_events_data_df[messi_events_data_df['goal'] == True]['positions']\n",
    "    ronaldo_goals = ronaldo_events_data_df[ronaldo_events_data_df['goal'] == True]['positions']\n",
    "\n",
    "    #Pitch with events\n",
    "    p_messi = plot_events(messi_goals, 'Goals', 'red')\n",
    "    p_ronaldo = plot_events(ronaldo_goals, 'Goals', 'blue')\n",
    "\n",
    "    ....\n",
    "    \n",
    "    grid = bokeh.layouts.grid(\n",
    "        children=[\n",
    "            [p_messi, p_ronaldo],\n",
    "            [print_table(messi_stats_df), print_table(ronaldo_stats_df)],\n",
    "        ],\n",
    "        sizing_mode=\"stretch_width\",\n",
    "    )\n",
    "\n",
    "    return bokeh.models.Panel(child=grid, title=\"Goals\")\n",
    "```"
   ]
  },
  {
   "cell_type": "markdown",
   "metadata": {},
   "source": [
    "In the main function at the end of [app.py](https://github.com/adilmoujahid/streamlit-messi-ronaldo/blob/master/app.py), you can see how the 5 functions are used to create 5 tabs for each event type. "
   ]
  },
  {
   "cell_type": "markdown",
   "metadata": {},
   "source": [
    "```python\n",
    "tabs = bokeh.models.Tabs(\n",
    "    tabs=[\n",
    "        plot_goals(messi_events_data_df, ronaldo_events_data_df, \n",
    "                   barca_matches_dates_df, real_matches_dates_df),\n",
    "        plot_assists(messi_events_data_df, ronaldo_events_data_df, \n",
    "                     barca_matches_dates_df, real_matches_dates_df),\n",
    "        plot_shots(messi_events_data_df, ronaldo_events_data_df, \n",
    "                   barca_matches_dates_df, real_matches_dates_df),\n",
    "        plot_free_kicks(messi_events_data_df, ronaldo_events_data_df, \n",
    "                        barca_matches_dates_df, real_matches_dates_df),\n",
    "        plot_passes(messi_events_data_df, ronaldo_events_data_df, \n",
    "                    barca_matches_dates_df, real_matches_dates_df),\n",
    "    ]\n",
    ")\n",
    "```"
   ]
  },
  {
   "cell_type": "markdown",
   "metadata": {},
   "source": [
    "### Left/Right Foot Filter\n",
    "\n",
    "In the main function, we define a [streamlit Radio](https://docs.streamlit.io/en/latest/api.html#streamlit.radio) that we can use to filter the data by foot."
   ]
  },
  {
   "cell_type": "markdown",
   "metadata": {},
   "source": [
    "```python\n",
    "foot = st.sidebar.radio(\"Foot\", ('Either Left or Right', 'Left', 'Right'))\n",
    "messi_events_data_df, ronaldo_events_data_df, barca_matches_dates_df, real_matches_dates_df = get_data(foot)\n",
    "```"
   ]
  },
  {
   "cell_type": "markdown",
   "metadata": {},
   "source": [
    "### Stats of both players as Table"
   ]
  },
  {
   "cell_type": "markdown",
   "metadata": {},
   "source": [
    "In the main function, we calculate the stats of both Messi and Ronaldo and display them as a dataframe using [streamlit.dataframe](https://docs.streamlit.io/en/latest/api.html#display-data)"
   ]
  },
  {
   "cell_type": "markdown",
   "metadata": {},
   "source": [
    "```python\n",
    "goals = [messi_events_data_df['goal'].sum(), ronaldo_events_data_df['goal'].sum()]\n",
    "assists = [messi_events_data_df['assist'].sum(), ronaldo_events_data_df['assist'].sum()]\n",
    "shots = [messi_events_data_df[messi_events_data_df['eventName'] == 'Shot'].count()['eventName'],\n",
    "         ronaldo_events_data_df[ronaldo_events_data_df['eventName'] == 'Shot'].count()['eventName']]\n",
    "free_kicks = [messi_events_data_df[messi_events_data_df['subEventName'] == 'Free kick shot'].count()['subEventName'], \n",
    "            messi_events_data_df[messi_events_data_df['subEventName'] == 'Free kick shot'].count()['subEventName']]\n",
    "passes = [messi_events_data_df[messi_events_data_df['eventName'] == 'Pass'].count()['eventName'],\n",
    "        ronaldo_events_data_df[ronaldo_events_data_df['eventName'] == 'Pass'].count()['eventName']]\n",
    "\n",
    "stats_df = pd.DataFrame([goals, assists, shots, free_kicks, passes],\n",
    "                        columns=['Messi', 'Ronaldo'], \n",
    "                        index=['Goals', 'Assists', 'Shots', 'Free Kicks', 'Passes'])\n",
    "\n",
    "st.sidebar.markdown(\"\"\" ### Stats \"\"\")\n",
    "st.sidebar.dataframe(stats_df)\n",
    "```"
   ]
  },
  {
   "cell_type": "markdown",
   "metadata": {},
   "source": [
    "# Conclusion"
   ]
  },
  {
   "cell_type": "markdown",
   "metadata": {},
   "source": [
    "In this blog post, we saw how to build a web app that analyzes Messi and Ronaldo's game during LaLiga season 2017-18 using Python and Streamlit. The dataset and the source code from this post can be adapted to implement other use cases. For example: Comparaison between other players, teams and even championships."
   ]
  },
  {
   "cell_type": "markdown",
   "metadata": {},
   "source": [
    "# References"
   ]
  },
  {
   "cell_type": "markdown",
   "metadata": {},
   "source": [
    "[1] Pappalardo et al., (2019) A public data set of spatio-temporal match events in soccer competitions, Nature Scientific Data 6:236, https://www.nature.com/articles/s41597-019-0247-7\n",
    "\n",
    "[2] https://figshare.com/articles/Events/7770599"
   ]
  },
  {
   "cell_type": "code",
   "execution_count": null,
   "metadata": {},
   "outputs": [],
   "source": []
  }
 ],
 "metadata": {
  "kernelspec": {
   "display_name": "Python 3",
   "language": "python",
   "name": "python3"
  },
  "language_info": {
   "codemirror_mode": {
    "name": "ipython",
    "version": 3
   },
   "file_extension": ".py",
   "mimetype": "text/x-python",
   "name": "python",
   "nbconvert_exporter": "python",
   "pygments_lexer": "ipython3",
   "version": "3.7.6"
  }
 },
 "nbformat": 4,
 "nbformat_minor": 4
}
