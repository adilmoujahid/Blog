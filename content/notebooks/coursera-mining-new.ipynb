{
 "cells": [
  {
   "cell_type": "markdown",
   "metadata": {},
   "source": [
    "In a few years, massive open online courses, most commonly referred to as MOOCs, have exploded in popularity. These online courses provide high quality content taught by the best professors in their respective fields. With more that 20 million students, Coursera is one of the leaders of the MOOC movement. Coursera provides a platform that connects leading universities with students worldwide. I took my first Coursera course back in 2012, and since then I try to take one course a month. \n",
    "\n",
    "In 2015, Coursera has around 1000 courses offered by 100+ universities in more than 10 languages. With this huge number of courses, it became difficult to decide on what course to take.\n",
    "\n",
    "In this tutorial, I will combine coursera data together with social media data to assess the popularity of courses. To to this, I will use the Coursera API to retrieve the course catalogue, I will use the sharecount.com API to get social media metrics for each course, and I will use python's ```pandas``` library to query and order the courses by popularity.\n",
    "\n",
    "![Alt Text](/images/coursera_mining.png)\n",
    "\n",
    "![Alt Text](/images/coursera_demo.gif)\n",
    "\n",
    "The source code for this tutorial can be found in this [github repository](https://github.com/adilmoujahid/Coursera_Analytics)."
   ]
  },
  {
   "cell_type": "markdown",
   "metadata": {},
   "source": [
    "#1. Getting courses data\n",
    "Coursera provides an [API](https://tech.coursera.org/app-platform/catalog/) for accessing the courses, universities, categories, instructors and sessions data. For this tutorial, we will be using the courses, universities and categories data. \n",
    "\n",
    "in a Python shell, we start by importing the 3 following libraries: ```urllib2```, ```json```, and ```pandas```. Both ```urllib2``` and ```json``` libraries are part of the core python libraries and don't need to be installed separately."
   ]
  },
  {
   "cell_type": "code",
   "execution_count": 1,
   "metadata": {
    "collapsed": false
   },
   "outputs": [],
   "source": [
    "import urllib2\n",
    "import json\n",
    "import pandas as pd"
   ]
  },
  {
   "cell_type": "markdown",
   "metadata": {},
   "source": [
    "Next, we access the coursera API and download the course catalogue. For each course, we are interested in 3 fields:\n",
    "\n",
    "* ```shortName```: The short name associated with the course.\n",
    "* ```name```: The course name or title.\n",
    "* ```language```: The language code for the course. (e.g. 'en' means English.)\n",
    "\n",
    "We also include in the query ```universities``` and ```categories``` parameters. This will return the ids that matches each course with their corresponding universities and categories. Below are the ```Python``` commands to do so."
   ]
  },
  {
   "cell_type": "code",
   "execution_count": 2,
   "metadata": {
    "collapsed": false
   },
   "outputs": [],
   "source": [
    "courses_response = urllib2.urlopen('https://api.coursera.org/api/catalog.v1/courses?fields=shortName,name,language&includes=universities,categories')\n",
    "courses_data = json.load(courses_response)\n",
    "courses_data = courses_data['elements']"
   ]
  },
  {
   "cell_type": "markdown",
   "metadata": {},
   "source": [
    "If we want to get the data about the first course in the ```courses_data``` dictionary, we simply execute the command below."
   ]
  },
  {
   "cell_type": "code",
   "execution_count": 3,
   "metadata": {
    "collapsed": false
   },
   "outputs": [
    {
     "data": {
      "text/plain": [
       "{u'id': 2163,\n",
       " u'language': u'en',\n",
       " u'links': {u'categories': [8, 10, 19, 20], u'universities': [65]},\n",
       " u'name': u'The Land Ethic Reclaimed: Perceptive Hunting, Aldo Leopold, and Conservation',\n",
       " u'shortName': u'perceptivehunting'}"
      ]
     },
     "execution_count": 3,
     "metadata": {},
     "output_type": "execute_result"
    }
   ],
   "source": [
    "courses_data[0]"
   ]
  },
  {
   "cell_type": "markdown",
   "metadata": {},
   "source": [
    "The first course in the ```courses_data``` dictionary is 'The Land Ethic Reclaimed: Perceptive Hunting, Aldo Leopold, and Conservation', offered in English by the university with id=65, and under categories 8, 10, 19 and 20.\n",
    "\n",
    "Next, we retrieve the universities and categories data from the Coursera API. For the universities data, we are interested in the university name and its location. "
   ]
  },
  {
   "cell_type": "code",
   "execution_count": 4,
   "metadata": {
    "collapsed": false
   },
   "outputs": [],
   "source": [
    "universities_response = urllib2.urlopen('https://api.coursera.org/api/catalog.v1/universities?fields=name,locationCountry')\n",
    "universities_data = json.load(universities_response)\n",
    "universities_data = universities_data['elements']"
   ]
  },
  {
   "cell_type": "markdown",
   "metadata": {},
   "source": [
    "We can get the data about the first university from ```universities_data``` by executing the following command:"
   ]
  },
  {
   "cell_type": "code",
   "execution_count": 5,
   "metadata": {
    "collapsed": false
   },
   "outputs": [
    {
     "data": {
      "text/plain": [
       "{u'id': 234,\n",
       " u'links': {},\n",
       " u'locationCountry': u'CN',\n",
       " u'name': u\"Xi'an Jiaotong University\",\n",
       " u'shortName': u'xjtu'}"
      ]
     },
     "execution_count": 5,
     "metadata": {},
     "output_type": "execute_result"
    }
   ],
   "source": [
    "universities_data[0]"
   ]
  },
  {
   "cell_type": "markdown",
   "metadata": {},
   "source": [
    "Similarly, we can get the courses categories data by executing the following commands."
   ]
  },
  {
   "cell_type": "code",
   "execution_count": 6,
   "metadata": {
    "collapsed": false
   },
   "outputs": [],
   "source": [
    "categories_response = urllib2.urlopen('https://api.coursera.org/api/catalog.v1/categories')\n",
    "categories_data = json.load(categories_response)\n",
    "categories_data = categories_data['elements']"
   ]
  },
  {
   "cell_type": "markdown",
   "metadata": {},
   "source": [
    "We can get the data about the the first category from ```categories_data``` by executing the following command:"
   ]
  },
  {
   "cell_type": "code",
   "execution_count": 7,
   "metadata": {
    "collapsed": false
   },
   "outputs": [
    {
     "data": {
      "text/plain": [
       "{u'id': 5, u'links': {}, u'name': u'Mathematics', u'shortName': u'math'}"
      ]
     },
     "execution_count": 7,
     "metadata": {},
     "output_type": "execute_result"
    }
   ],
   "source": [
    "categories_data[0]"
   ]
  },
  {
   "cell_type": "markdown",
   "metadata": {},
   "source": [
    "#2. Structuring the data\n",
    "In this section, we will structure the ```courses_data```, ```universities_data``` and ```categories_data``` into ```pandas``` DataFrames, and we will map the universities and categories ids with the corresponding names. By the end of this section, we will have one ```pandas``` DataFrame called ```courses_df``` that will have all the necessary data in a well structured format.\n",
    "\n",
    "##2.1. Putting the data into Pandas DataFrames\n",
    "First, we start by creating a ```pandas``` DataFrame for the courses data."
   ]
  },
  {
   "cell_type": "code",
   "execution_count": 8,
   "metadata": {
    "collapsed": false
   },
   "outputs": [],
   "source": [
    "courses_df = pd.DataFrame()"
   ]
  },
  {
   "cell_type": "markdown",
   "metadata": {},
   "source": [
    "Next, we add the ```course_name```, ```course_language```, ```course_short_name```, ```categories``` and ```universities``` columns to the ```courses_df``` DataFrame."
   ]
  },
  {
   "cell_type": "code",
   "execution_count": 9,
   "metadata": {
    "collapsed": false
   },
   "outputs": [],
   "source": [
    "courses_df['course_name'] = map(lambda course_data: course_data['name'], courses_data)\n",
    "courses_df['course_language'] = map(lambda course_data: course_data['language'], courses_data)\n",
    "courses_df['course_short_name'] = map(lambda course_data: course_data['shortName'], courses_data)\n",
    "courses_df['categories'] = map(lambda course_data: course_data['links']['categories'] if 'categories' in course_data['links'] else [], courses_data)\n",
    "courses_df['universities'] = map(lambda course_data: course_data['links']['universities'] if 'universities' in course_data['links'] else [], courses_data)"
   ]
  },
  {
   "cell_type": "markdown",
   "metadata": {},
   "source": [
    "We can print the first 5 rows from the ```courses_df``` DataFrame by executing the command below. "
   ]
  },
  {
   "cell_type": "code",
   "execution_count": 10,
   "metadata": {
    "collapsed": false
   },
   "outputs": [
    {
     "data": {
      "text/html": [
       "<div style=\"max-height:1000px;max-width:1500px;overflow:auto;\">\n",
       "<table border=\"1\" class=\"dataframe\">\n",
       "  <thead>\n",
       "    <tr style=\"text-align: right;\">\n",
       "      <th></th>\n",
       "      <th>course_name</th>\n",
       "      <th>course_language</th>\n",
       "      <th>course_short_name</th>\n",
       "      <th>categories</th>\n",
       "      <th>universities</th>\n",
       "    </tr>\n",
       "  </thead>\n",
       "  <tbody>\n",
       "    <tr>\n",
       "      <th>0</th>\n",
       "      <td> The Land Ethic Reclaimed: Perceptive Hunting, ...</td>\n",
       "      <td> en</td>\n",
       "      <td>  perceptivehunting</td>\n",
       "      <td> [8, 10, 19, 20]</td>\n",
       "      <td>  [65]</td>\n",
       "    </tr>\n",
       "    <tr>\n",
       "      <th>1</th>\n",
       "      <td>  Contraception: Choices, Culture and Consequences</td>\n",
       "      <td> en</td>\n",
       "      <td>      contraception</td>\n",
       "      <td>          [3, 8]</td>\n",
       "      <td>  [10]</td>\n",
       "    </tr>\n",
       "    <tr>\n",
       "      <th>2</th>\n",
       "      <td>    Introduction to Computational Arts: Processing</td>\n",
       "      <td> en</td>\n",
       "      <td> compartsprocessing</td>\n",
       "      <td>  [1, 4, 18, 22]</td>\n",
       "      <td> [117]</td>\n",
       "    </tr>\n",
       "    <tr>\n",
       "      <th>3</th>\n",
       "      <td>           Introduction to Programming with MATLAB</td>\n",
       "      <td> en</td>\n",
       "      <td>             matlab</td>\n",
       "      <td>        [12, 15]</td>\n",
       "      <td>  [37]</td>\n",
       "    </tr>\n",
       "    <tr>\n",
       "      <th>4</th>\n",
       "      <td>                   Experimentation for Improvement</td>\n",
       "      <td> en</td>\n",
       "      <td>        experiments</td>\n",
       "      <td>  [4, 5, 15, 16]</td>\n",
       "      <td> [148]</td>\n",
       "    </tr>\n",
       "  </tbody>\n",
       "</table>\n",
       "</div>"
      ],
      "text/plain": [
       "                                         course_name course_language  \\\n",
       "0  The Land Ethic Reclaimed: Perceptive Hunting, ...              en   \n",
       "1   Contraception: Choices, Culture and Consequences              en   \n",
       "2     Introduction to Computational Arts: Processing              en   \n",
       "3            Introduction to Programming with MATLAB              en   \n",
       "4                    Experimentation for Improvement              en   \n",
       "\n",
       "    course_short_name       categories universities  \n",
       "0   perceptivehunting  [8, 10, 19, 20]         [65]  \n",
       "1       contraception           [3, 8]         [10]  \n",
       "2  compartsprocessing   [1, 4, 18, 22]        [117]  \n",
       "3              matlab         [12, 15]         [37]  \n",
       "4         experiments   [4, 5, 15, 16]        [148]  "
      ]
     },
     "execution_count": 10,
     "metadata": {},
     "output_type": "execute_result"
    }
   ],
   "source": [
    "courses_df.head()"
   ]
  },
  {
   "cell_type": "markdown",
   "metadata": {},
   "source": [
    "Similarly, we create a ```python``` DataFrame for the universities data, and we add the ```university_id```, ```university_name``` and ```university_location_country``` columns to it."
   ]
  },
  {
   "cell_type": "code",
   "execution_count": 11,
   "metadata": {
    "collapsed": false
   },
   "outputs": [],
   "source": [
    "universities_df = pd.DataFrame()\n",
    "universities_df['university_id'] = map(lambda university_data: university_data['id'], universities_data)\n",
    "universities_df['university_name'] = map(lambda university_data: university_data['name'], universities_data)\n",
    "universities_df['university_location_country'] = map(lambda university_data: university_data['locationCountry'], universities_data)"
   ]
  },
  {
   "cell_type": "markdown",
   "metadata": {},
   "source": [
    "Next, we change the ```universities_df``` index to ```university_id```. "
   ]
  },
  {
   "cell_type": "code",
   "execution_count": 12,
   "metadata": {
    "collapsed": false
   },
   "outputs": [],
   "source": [
    "universities_df = universities_df.set_index('university_id')"
   ]
  },
  {
   "cell_type": "markdown",
   "metadata": {},
   "source": [
    "We can print the first 5 rows from the ```universities_df``` DataFrame by executing the command below. "
   ]
  },
  {
   "cell_type": "code",
   "execution_count": 13,
   "metadata": {
    "collapsed": false
   },
   "outputs": [
    {
     "data": {
      "text/html": [
       "<div style=\"max-height:1000px;max-width:1500px;overflow:auto;\">\n",
       "<table border=\"1\" class=\"dataframe\">\n",
       "  <thead>\n",
       "    <tr style=\"text-align: right;\">\n",
       "      <th></th>\n",
       "      <th>university_name</th>\n",
       "      <th>university_location_country</th>\n",
       "    </tr>\n",
       "    <tr>\n",
       "      <th>university_id</th>\n",
       "      <th></th>\n",
       "      <th></th>\n",
       "    </tr>\n",
       "  </thead>\n",
       "  <tbody>\n",
       "    <tr>\n",
       "      <th>234</th>\n",
       "      <td>               Xi'an Jiaotong University</td>\n",
       "      <td> CN</td>\n",
       "    </tr>\n",
       "    <tr>\n",
       "      <th>120</th>\n",
       "      <td>                University of New Mexico</td>\n",
       "      <td> US</td>\n",
       "    </tr>\n",
       "    <tr>\n",
       "      <th>10 </th>\n",
       "      <td> University of California, San Francisco</td>\n",
       "      <td> US</td>\n",
       "    </tr>\n",
       "    <tr>\n",
       "      <th>56 </th>\n",
       "      <td>    University of California, Santa Cruz</td>\n",
       "      <td> US</td>\n",
       "    </tr>\n",
       "    <tr>\n",
       "      <th>24 </th>\n",
       "      <td>          Hebrew University of Jerusalem</td>\n",
       "      <td>   </td>\n",
       "    </tr>\n",
       "  </tbody>\n",
       "</table>\n",
       "</div>"
      ],
      "text/plain": [
       "                                       university_name  \\\n",
       "university_id                                            \n",
       "234                          Xi'an Jiaotong University   \n",
       "120                           University of New Mexico   \n",
       "10             University of California, San Francisco   \n",
       "56                University of California, Santa Cruz   \n",
       "24                      Hebrew University of Jerusalem   \n",
       "\n",
       "              university_location_country  \n",
       "university_id                              \n",
       "234                                    CN  \n",
       "120                                    US  \n",
       "10                                     US  \n",
       "56                                     US  \n",
       "24                                         "
      ]
     },
     "execution_count": 13,
     "metadata": {},
     "output_type": "execute_result"
    }
   ],
   "source": [
    "universities_df.head()"
   ]
  },
  {
   "cell_type": "markdown",
   "metadata": {},
   "source": [
    "Next, we create a ```python``` DataFrame for the categories data, and we add the ```category_id``` and ```category_name``` columns to it."
   ]
  },
  {
   "cell_type": "code",
   "execution_count": 14,
   "metadata": {
    "collapsed": false
   },
   "outputs": [],
   "source": [
    "categories_df = pd.DataFrame()\n",
    "categories_df['category_id'] = map(lambda category_data: category_data['id'], categories_data)\n",
    "categories_df['category_name'] = map(lambda category_data: category_data['name'], categories_data)"
   ]
  },
  {
   "cell_type": "markdown",
   "metadata": {},
   "source": [
    "Similarly, we change the ```categories_df``` index to ```category_id```. "
   ]
  },
  {
   "cell_type": "code",
   "execution_count": 15,
   "metadata": {
    "collapsed": false
   },
   "outputs": [],
   "source": [
    "categories_df = categories_df.set_index('category_id')"
   ]
  },
  {
   "cell_type": "markdown",
   "metadata": {},
   "source": [
    "We can print the first 5 rows from the ```categories_df``` DataFrame by executing the command below. "
   ]
  },
  {
   "cell_type": "code",
   "execution_count": 16,
   "metadata": {
    "collapsed": false
   },
   "outputs": [
    {
     "data": {
      "text/html": [
       "<div style=\"max-height:1000px;max-width:1500px;overflow:auto;\">\n",
       "<table border=\"1\" class=\"dataframe\">\n",
       "  <thead>\n",
       "    <tr style=\"text-align: right;\">\n",
       "      <th></th>\n",
       "      <th>category_name</th>\n",
       "    </tr>\n",
       "    <tr>\n",
       "      <th>category_id</th>\n",
       "      <th></th>\n",
       "    </tr>\n",
       "  </thead>\n",
       "  <tbody>\n",
       "    <tr>\n",
       "      <th>5 </th>\n",
       "      <td>             Mathematics</td>\n",
       "    </tr>\n",
       "    <tr>\n",
       "      <th>10</th>\n",
       "      <td> Biology &amp; Life Sciences</td>\n",
       "    </tr>\n",
       "    <tr>\n",
       "      <th>24</th>\n",
       "      <td>               Chemistry</td>\n",
       "    </tr>\n",
       "    <tr>\n",
       "      <th>25</th>\n",
       "      <td> Energy &amp; Earth Sciences</td>\n",
       "    </tr>\n",
       "    <tr>\n",
       "      <th>14</th>\n",
       "      <td>               Education</td>\n",
       "    </tr>\n",
       "  </tbody>\n",
       "</table>\n",
       "</div>"
      ],
      "text/plain": [
       "                       category_name\n",
       "category_id                         \n",
       "5                        Mathematics\n",
       "10           Biology & Life Sciences\n",
       "24                         Chemistry\n",
       "25           Energy & Earth Sciences\n",
       "14                         Education"
      ]
     },
     "execution_count": 16,
     "metadata": {},
     "output_type": "execute_result"
    }
   ],
   "source": [
    "categories_df.head()"
   ]
  },
  {
   "cell_type": "markdown",
   "metadata": {},
   "source": [
    "##2.2. Mapping ids with the corresponding names\n",
    "In the ```courses_df``` DataFrame, the universities and the categories are referred to by their ids and not by their name. To change that, we start by defining a function that change the ids to their corresponding names."
   ]
  },
  {
   "cell_type": "code",
   "execution_count": 17,
   "metadata": {
    "collapsed": false
   },
   "outputs": [],
   "source": [
    "def map_ids_names(ids_array, df, object_name):\n",
    "    names_array = []\n",
    "    for object_id in ids_array:\n",
    "        try:\n",
    "            names_array.append(df.loc[object_id][object_name])\n",
    "        except:\n",
    "            continue\n",
    "    return names_array"
   ]
  },
  {
   "cell_type": "markdown",
   "metadata": {},
   "source": [
    "For example, we can print the categories with ids [4,5,15,16] by executing the command below."
   ]
  },
  {
   "cell_type": "code",
   "execution_count": 18,
   "metadata": {
    "collapsed": false
   },
   "outputs": [
    {
     "data": {
      "text/plain": [
       "[u'Information, Tech & Design',\n",
       " u'Mathematics',\n",
       " u'Engineering',\n",
       " u'Statistics and Data Analysis']"
      ]
     },
     "execution_count": 18,
     "metadata": {},
     "output_type": "execute_result"
    }
   ],
   "source": [
    "map_ids_names([4,5,15,16], categories_df, 'category_name')"
   ]
  },
  {
   "cell_type": "markdown",
   "metadata": {},
   "source": [
    "Similarly, we can print the name of the university with id 234 by executing the command below."
   ]
  },
  {
   "cell_type": "code",
   "execution_count": 19,
   "metadata": {
    "collapsed": false
   },
   "outputs": [
    {
     "data": {
      "text/plain": [
       "[u\"Xi'an Jiaotong University\"]"
      ]
     },
     "execution_count": 19,
     "metadata": {},
     "output_type": "execute_result"
    }
   ],
   "source": [
    "map_ids_names([234], universities_df, 'university_name')"
   ]
  },
  {
   "cell_type": "markdown",
   "metadata": {},
   "source": [
    "Next, we add both the categories and universities name to the ```courses_df``` DataFrame."
   ]
  },
  {
   "cell_type": "code",
   "execution_count": 20,
   "metadata": {
    "collapsed": false
   },
   "outputs": [],
   "source": [
    "courses_df['categories_name'] = courses_df.apply(lambda row: map_ids_names(row['categories'], categories_df, 'category_name'), axis=1)\n",
    "courses_df['universities_name'] = courses_df.apply(lambda row: map_ids_names(row['universities'], universities_df, 'university_name'), axis=1)"
   ]
  },
  {
   "cell_type": "markdown",
   "metadata": {},
   "source": [
    "##2.3. Adding course URLs to the data"
   ]
  },
  {
   "cell_type": "markdown",
   "metadata": {},
   "source": [
    "The URL to each Coursera course looks like `https://www.coursera.org/course/<shortName>`. We can add the URLs to the ```courses_df``` DataFrame by executing the command below."
   ]
  },
  {
   "cell_type": "code",
   "execution_count": 21,
   "metadata": {
    "collapsed": false
   },
   "outputs": [],
   "source": [
    "courses_df['course_url'] = 'https://www.coursera.org/course/' + courses_df['course_short_name']"
   ]
  },
  {
   "cell_type": "markdown",
   "metadata": {},
   "source": [
    "We can print the first 5 rows from the ```courses_df``` DataFrame by executing the command below."
   ]
  },
  {
   "cell_type": "code",
   "execution_count": 22,
   "metadata": {
    "collapsed": false
   },
   "outputs": [
    {
     "data": {
      "text/html": [
       "<div style=\"max-height:1000px;max-width:1500px;overflow:auto;\">\n",
       "<table border=\"1\" class=\"dataframe\">\n",
       "  <thead>\n",
       "    <tr style=\"text-align: right;\">\n",
       "      <th></th>\n",
       "      <th>course_name</th>\n",
       "      <th>course_language</th>\n",
       "      <th>course_short_name</th>\n",
       "      <th>categories</th>\n",
       "      <th>universities</th>\n",
       "      <th>categories_name</th>\n",
       "      <th>universities_name</th>\n",
       "      <th>course_url</th>\n",
       "    </tr>\n",
       "  </thead>\n",
       "  <tbody>\n",
       "    <tr>\n",
       "      <th>0</th>\n",
       "      <td> The Land Ethic Reclaimed: Perceptive Hunting, ...</td>\n",
       "      <td> en</td>\n",
       "      <td>  perceptivehunting</td>\n",
       "      <td> [8, 10, 19, 20]</td>\n",
       "      <td>  [65]</td>\n",
       "      <td> [Health &amp; Society, Biology &amp; Life Sciences, Fo...</td>\n",
       "      <td>         [University of Wisconsin–Madison]</td>\n",
       "      <td> https://www.coursera.org/course/perceptivehunting</td>\n",
       "    </tr>\n",
       "    <tr>\n",
       "      <th>1</th>\n",
       "      <td>  Contraception: Choices, Culture and Consequences</td>\n",
       "      <td> en</td>\n",
       "      <td>      contraception</td>\n",
       "      <td>          [3, 8]</td>\n",
       "      <td>  [10]</td>\n",
       "      <td>                      [Medicine, Health &amp; Society]</td>\n",
       "      <td> [University of California, San Francisco]</td>\n",
       "      <td>     https://www.coursera.org/course/contraception</td>\n",
       "    </tr>\n",
       "    <tr>\n",
       "      <th>2</th>\n",
       "      <td>    Introduction to Computational Arts: Processing</td>\n",
       "      <td> en</td>\n",
       "      <td> compartsprocessing</td>\n",
       "      <td>  [1, 4, 18, 22]</td>\n",
       "      <td> [117]</td>\n",
       "      <td> [Computer Science: Theory, Information, Tech &amp;...</td>\n",
       "      <td>            [State University of New York]</td>\n",
       "      <td> https://www.coursera.org/course/compartsproces...</td>\n",
       "    </tr>\n",
       "    <tr>\n",
       "      <th>3</th>\n",
       "      <td>           Introduction to Programming with MATLAB</td>\n",
       "      <td> en</td>\n",
       "      <td>             matlab</td>\n",
       "      <td>        [12, 15]</td>\n",
       "      <td>  [37]</td>\n",
       "      <td> [Computer Science: Software Engineering, Engin...</td>\n",
       "      <td>                   [Vanderbilt University]</td>\n",
       "      <td>            https://www.coursera.org/course/matlab</td>\n",
       "    </tr>\n",
       "    <tr>\n",
       "      <th>4</th>\n",
       "      <td>                   Experimentation for Improvement</td>\n",
       "      <td> en</td>\n",
       "      <td>        experiments</td>\n",
       "      <td>  [4, 5, 15, 16]</td>\n",
       "      <td> [148]</td>\n",
       "      <td> [Information, Tech &amp; Design, Mathematics, Engi...</td>\n",
       "      <td>                     [McMaster University]</td>\n",
       "      <td>       https://www.coursera.org/course/experiments</td>\n",
       "    </tr>\n",
       "  </tbody>\n",
       "</table>\n",
       "</div>"
      ],
      "text/plain": [
       "                                         course_name course_language  \\\n",
       "0  The Land Ethic Reclaimed: Perceptive Hunting, ...              en   \n",
       "1   Contraception: Choices, Culture and Consequences              en   \n",
       "2     Introduction to Computational Arts: Processing              en   \n",
       "3            Introduction to Programming with MATLAB              en   \n",
       "4                    Experimentation for Improvement              en   \n",
       "\n",
       "    course_short_name       categories universities  \\\n",
       "0   perceptivehunting  [8, 10, 19, 20]         [65]   \n",
       "1       contraception           [3, 8]         [10]   \n",
       "2  compartsprocessing   [1, 4, 18, 22]        [117]   \n",
       "3              matlab         [12, 15]         [37]   \n",
       "4         experiments   [4, 5, 15, 16]        [148]   \n",
       "\n",
       "                                     categories_name  \\\n",
       "0  [Health & Society, Biology & Life Sciences, Fo...   \n",
       "1                       [Medicine, Health & Society]   \n",
       "2  [Computer Science: Theory, Information, Tech &...   \n",
       "3  [Computer Science: Software Engineering, Engin...   \n",
       "4  [Information, Tech & Design, Mathematics, Engi...   \n",
       "\n",
       "                           universities_name  \\\n",
       "0          [University of Wisconsin–Madison]   \n",
       "1  [University of California, San Francisco]   \n",
       "2             [State University of New York]   \n",
       "3                    [Vanderbilt University]   \n",
       "4                      [McMaster University]   \n",
       "\n",
       "                                          course_url  \n",
       "0  https://www.coursera.org/course/perceptivehunting  \n",
       "1      https://www.coursera.org/course/contraception  \n",
       "2  https://www.coursera.org/course/compartsproces...  \n",
       "3             https://www.coursera.org/course/matlab  \n",
       "4        https://www.coursera.org/course/experiments  "
      ]
     },
     "execution_count": 22,
     "metadata": {},
     "output_type": "execute_result"
    }
   ],
   "source": [
    "courses_df.head()"
   ]
  },
  {
   "cell_type": "markdown",
   "metadata": {},
   "source": [
    "#3. Getting social sharing counts\n",
    "\n",
    "##3.1. Getting social counts from sharedcount.com\n",
    "SharedCount is a service that looks up the number of times a given URL has been shared on major social networks. We can get the  social shares number of any web page by going to sharedcount.com, entering the page URL in the input field and pressing the \"Analyze\" button. Below is the output of the very popular Machine Learning course from Stanford that has the URL `https://www.coursera.org/course/ml`.\n",
    "\n",
    "![Alt Text](/images/coursera-sharedcount.png)\n",
    "\n",

    "##3.2. Getting social counts using the sharedcount.com API\n",
    "In our dataset, we want to get the social share of more than 1000 courses. Looking up each course URL from the browser is not efficient. Fortunately, sharedcount.com provides an API that we can use for automating this process. In order to use the API, you should create an account and get your API key. The API allows a daily quota of 10,000 requests which more than enough for this use case. We start by defining a function that returns the social shares from sharecount.com"
   ]
  },
  {
   "cell_type": "code",
   "execution_count": 23,
   "metadata": {
    "collapsed": false
   },
   "outputs": [],
   "source": [
    "def get_social_metrics(url, api_key):\n",
    "    sharedcount_response = urllib2.urlopen('https://free.sharedcount.com/?url=' + url + '&apikey=' + api_key)\n",
    "    return json.load(sharedcount_response)"
   ]
  },
  {
   "cell_type": "markdown",
   "metadata": {},
   "source": [
    "Next we define a variable that holds the API key. Make sure to enter your API key."
   ]
  },
  {
   "cell_type": "code",
   "execution_count": 24,
   "metadata": {
    "collapsed": false
   },
   "outputs": [],
   "source": [
    "SHAREDCOUNT_API_KEY = 'XXXXXXXXXXXXXXXX'"
   ]
  },
  {
   "cell_type": "code",
   "execution_count": 25,
   "metadata": {
    "collapsed": false
   },
   "outputs": [],
   "source": [
    "courses_df['sharedcount_metrics'] = map(lambda course_url: get_social_metrics(course_url, SHAREDCOUNT_API_KEY), courses_df['course_url'])"
   ]
  },
  {
   "cell_type": "markdown",
   "metadata": {},
   "source": [
    "In this tutorial, we will be only using the social share count from Twitter, LinkedIn and Facebook, We can add this information to the ```courses_df``` DataFrame by executing the commands below."
   ]
  },
  {
   "cell_type": "code",
   "execution_count": 26,
   "metadata": {
    "collapsed": false
   },
   "outputs": [],
   "source": [
    "courses_df['twitter_count'] = map(lambda sharedcount: sharedcount['Twitter'], courses_df['sharedcount_metrics'])\n",
    "courses_df['linkedin_count'] = map(lambda sharedcount: sharedcount['LinkedIn'], courses_df['sharedcount_metrics'])\n",
    "courses_df['facebook_count'] = map(lambda sharedcount: sharedcount['Facebook']['total_count'], courses_df['sharedcount_metrics'])"
   ]
  },
  {
   "cell_type": "markdown",
   "metadata": {},
   "source": [
    "We can print the first 5 rows from the ```courses_df``` DataFrame by executing the command below."
   ]
  },
  {
   "cell_type": "code",
   "execution_count": 27,
   "metadata": {
    "collapsed": false
   },
   "outputs": [
    {
     "data": {
      "text/html": [
       "<div style=\"max-height:1000px;max-width:1500px;overflow:auto;\">\n",
       "<table border=\"1\" class=\"dataframe\">\n",
       "  <thead>\n",
       "    <tr style=\"text-align: right;\">\n",
       "      <th></th>\n",
       "      <th>course_name</th>\n",
       "      <th>course_language</th>\n",
       "      <th>course_short_name</th>\n",
       "      <th>categories</th>\n",
       "      <th>universities</th>\n",
       "      <th>categories_name</th>\n",
       "      <th>universities_name</th>\n",
       "      <th>course_url</th>\n",
       "      <th>sharedcount_metrics</th>\n",
       "      <th>twitter_count</th>\n",
       "      <th>linkedin_count</th>\n",
       "      <th>facebook_count</th>\n",
       "    </tr>\n",
       "  </thead>\n",
       "  <tbody>\n",
       "    <tr>\n",
       "      <th>0</th>\n",
       "      <td> The Land Ethic Reclaimed: Perceptive Hunting, ...</td>\n",
       "      <td> en</td>\n",
       "      <td>  perceptivehunting</td>\n",
       "      <td> [8, 10, 19, 20]</td>\n",
       "      <td>  [65]</td>\n",
       "      <td> [Health &amp; Society, Biology &amp; Life Sciences, Fo...</td>\n",
       "      <td>         [University of Wisconsin–Madison]</td>\n",
       "      <td> https://www.coursera.org/course/perceptivehunting</td>\n",
       "      <td> {u'StumbleUpon': 0, u'Reddit': 0, u'Delicious'...</td>\n",
       "      <td>  92</td>\n",
       "      <td>   1</td>\n",
       "      <td> 1032</td>\n",
       "    </tr>\n",
       "    <tr>\n",
       "      <th>1</th>\n",
       "      <td>  Contraception: Choices, Culture and Consequences</td>\n",
       "      <td> en</td>\n",
       "      <td>      contraception</td>\n",
       "      <td>          [3, 8]</td>\n",
       "      <td>  [10]</td>\n",
       "      <td>                      [Medicine, Health &amp; Society]</td>\n",
       "      <td> [University of California, San Francisco]</td>\n",
       "      <td>     https://www.coursera.org/course/contraception</td>\n",
       "      <td> {u'StumbleUpon': 0, u'Reddit': 0, u'Delicious'...</td>\n",
       "      <td> 199</td>\n",
       "      <td>   3</td>\n",
       "      <td> 1704</td>\n",
       "    </tr>\n",
       "    <tr>\n",
       "      <th>2</th>\n",
       "      <td>    Introduction to Computational Arts: Processing</td>\n",
       "      <td> en</td>\n",
       "      <td> compartsprocessing</td>\n",
       "      <td>  [1, 4, 18, 22]</td>\n",
       "      <td> [117]</td>\n",
       "      <td> [Computer Science: Theory, Information, Tech &amp;...</td>\n",
       "      <td>            [State University of New York]</td>\n",
       "      <td> https://www.coursera.org/course/compartsproces...</td>\n",
       "      <td> {u'StumbleUpon': 0, u'Reddit': 0, u'Delicious'...</td>\n",
       "      <td> 168</td>\n",
       "      <td>   1</td>\n",
       "      <td> 1009</td>\n",
       "    </tr>\n",
       "    <tr>\n",
       "      <th>3</th>\n",
       "      <td>           Introduction to Programming with MATLAB</td>\n",
       "      <td> en</td>\n",
       "      <td>             matlab</td>\n",
       "      <td>        [12, 15]</td>\n",
       "      <td>  [37]</td>\n",
       "      <td> [Computer Science: Software Engineering, Engin...</td>\n",
       "      <td>                   [Vanderbilt University]</td>\n",
       "      <td>            https://www.coursera.org/course/matlab</td>\n",
       "      <td> {u'StumbleUpon': 0, u'Reddit': 0, u'Delicious'...</td>\n",
       "      <td>   1</td>\n",
       "      <td>   0</td>\n",
       "      <td>   12</td>\n",
       "    </tr>\n",
       "    <tr>\n",
       "      <th>4</th>\n",
       "      <td>                   Experimentation for Improvement</td>\n",
       "      <td> en</td>\n",
       "      <td>        experiments</td>\n",
       "      <td>  [4, 5, 15, 16]</td>\n",
       "      <td> [148]</td>\n",
       "      <td> [Information, Tech &amp; Design, Mathematics, Engi...</td>\n",
       "      <td>                     [McMaster University]</td>\n",
       "      <td>       https://www.coursera.org/course/experiments</td>\n",
       "      <td> {u'StumbleUpon': 0, u'Reddit': 0, u'Delicious'...</td>\n",
       "      <td>  48</td>\n",
       "      <td> 122</td>\n",
       "      <td>  314</td>\n",
       "    </tr>\n",
       "  </tbody>\n",
       "</table>\n",
       "</div>"
      ],
      "text/plain": [
       "                                         course_name course_language  \\\n",
       "0  The Land Ethic Reclaimed: Perceptive Hunting, ...              en   \n",
       "1   Contraception: Choices, Culture and Consequences              en   \n",
       "2     Introduction to Computational Arts: Processing              en   \n",
       "3            Introduction to Programming with MATLAB              en   \n",
       "4                    Experimentation for Improvement              en   \n",
       "\n",
       "    course_short_name       categories universities  \\\n",
       "0   perceptivehunting  [8, 10, 19, 20]         [65]   \n",
       "1       contraception           [3, 8]         [10]   \n",
       "2  compartsprocessing   [1, 4, 18, 22]        [117]   \n",
       "3              matlab         [12, 15]         [37]   \n",
       "4         experiments   [4, 5, 15, 16]        [148]   \n",
       "\n",
       "                                     categories_name  \\\n",
       "0  [Health & Society, Biology & Life Sciences, Fo...   \n",
       "1                       [Medicine, Health & Society]   \n",
       "2  [Computer Science: Theory, Information, Tech &...   \n",
       "3  [Computer Science: Software Engineering, Engin...   \n",
       "4  [Information, Tech & Design, Mathematics, Engi...   \n",
       "\n",
       "                           universities_name  \\\n",
       "0          [University of Wisconsin–Madison]   \n",
       "1  [University of California, San Francisco]   \n",
       "2             [State University of New York]   \n",
       "3                    [Vanderbilt University]   \n",
       "4                      [McMaster University]   \n",
       "\n",
       "                                          course_url  \\\n",
       "0  https://www.coursera.org/course/perceptivehunting   \n",
       "1      https://www.coursera.org/course/contraception   \n",
       "2  https://www.coursera.org/course/compartsproces...   \n",
       "3             https://www.coursera.org/course/matlab   \n",
       "4        https://www.coursera.org/course/experiments   \n",
       "\n",
       "                                 sharedcount_metrics  twitter_count  \\\n",
       "0  {u'StumbleUpon': 0, u'Reddit': 0, u'Delicious'...             92   \n",
       "1  {u'StumbleUpon': 0, u'Reddit': 0, u'Delicious'...            199   \n",
       "2  {u'StumbleUpon': 0, u'Reddit': 0, u'Delicious'...            168   \n",
       "3  {u'StumbleUpon': 0, u'Reddit': 0, u'Delicious'...              1   \n",
       "4  {u'StumbleUpon': 0, u'Reddit': 0, u'Delicious'...             48   \n",
       "\n",
       "   linkedin_count  facebook_count  \n",
       "0               1            1032  \n",
       "1               3            1704  \n",
       "2               1            1009  \n",
       "3               0              12  \n",
       "4             122             314  "
      ]
     },
     "execution_count": 27,
     "metadata": {},
     "output_type": "execute_result"
    }
   ],
   "source": [
    "courses_df.head()"
   ]
  },
  {
   "cell_type": "markdown",
   "metadata": {},
   "source": [
    "#4. Querying the data\n",
    "Now that we have all Coursera courses with the corresponding number of social shares structured in a ```Pandas``` DataFrame, we can write queries that return the top courses for a specific category or language.\n",
    "##4.1. Getting the top 10 most popular English courses by Twitter count"
   ]
  },
  {
   "cell_type": "code",
   "execution_count": 28,
   "metadata": {
    "collapsed": false
   },
   "outputs": [
    {
     "data": {
      "text/html": [
       "<div style=\"max-height:1000px;max-width:1500px;overflow:auto;\">\n",
       "<table border=\"1\" class=\"dataframe\">\n",
       "  <thead>\n",
       "    <tr style=\"text-align: right;\">\n",
       "      <th></th>\n",
       "      <th>course_name</th>\n",
       "      <th>universities_name</th>\n",
       "      <th>categories_name</th>\n",
       "      <th>twitter_count</th>\n",
       "      <th>linkedin_count</th>\n",
       "      <th>facebook_count</th>\n",
       "    </tr>\n",
       "  </thead>\n",
       "  <tbody>\n",
       "    <tr>\n",
       "      <th>428</th>\n",
       "      <td>                                      Gamification</td>\n",
       "      <td>               [University of Pennsylvania]</td>\n",
       "      <td> [Information, Tech &amp; Design, Business &amp; Manage...</td>\n",
       "      <td> 10302</td>\n",
       "      <td> 8358</td>\n",
       "      <td> 23322</td>\n",
       "    </tr>\n",
       "    <tr>\n",
       "      <th>209</th>\n",
       "      <td>        Functional Programming Principles in Scala</td>\n",
       "      <td> [École Polytechnique Fédérale de Lausanne]</td>\n",
       "      <td>          [Computer Science: Software Engineering]</td>\n",
       "      <td>  6712</td>\n",
       "      <td>  699</td>\n",
       "      <td>  9922</td>\n",
       "    </tr>\n",
       "    <tr>\n",
       "      <th>389</th>\n",
       "      <td>                                  Machine Learning</td>\n",
       "      <td>                      [Stanford University]</td>\n",
       "      <td> [Statistics and Data Analysis, Computer Scienc...</td>\n",
       "      <td>  5792</td>\n",
       "      <td>  306</td>\n",
       "      <td> 21879</td>\n",
       "    </tr>\n",
       "    <tr>\n",
       "      <th>321</th>\n",
       "      <td>                                    Cryptography I</td>\n",
       "      <td>                      [Stanford University]</td>\n",
       "      <td> [Computer Science: Theory, Computer Science: S...</td>\n",
       "      <td>  4367</td>\n",
       "      <td> 8358</td>\n",
       "      <td> 15066</td>\n",
       "    </tr>\n",
       "    <tr>\n",
       "      <th>258</th>\n",
       "      <td>                           Social Network Analysis</td>\n",
       "      <td>                   [University of Michigan]</td>\n",
       "      <td> [Information, Tech &amp; Design, Computer Science:...</td>\n",
       "      <td>  3895</td>\n",
       "      <td>   39</td>\n",
       "      <td> 10315</td>\n",
       "    </tr>\n",
       "    <tr>\n",
       "      <th>857</th>\n",
       "      <td>                Principles of Reactive Programming</td>\n",
       "      <td> [École Polytechnique Fédérale de Lausanne]</td>\n",
       "      <td>          [Computer Science: Software Engineering]</td>\n",
       "      <td>  3216</td>\n",
       "      <td> 8358</td>\n",
       "      <td>  2739</td>\n",
       "    </tr>\n",
       "    <tr>\n",
       "      <th>761</th>\n",
       "      <td>              Think Again: How to Reason and Argue</td>\n",
       "      <td>                          [Duke University]</td>\n",
       "      <td>   [Humanities , Teacher Professional Development]</td>\n",
       "      <td>  2950</td>\n",
       "      <td>  160</td>\n",
       "      <td>     0</td>\n",
       "    </tr>\n",
       "    <tr>\n",
       "      <th>685</th>\n",
       "      <td>                                    Model Thinking</td>\n",
       "      <td>                   [University of Michigan]</td>\n",
       "      <td>                [Economics &amp; Finance, Humanities ]</td>\n",
       "      <td>  2721</td>\n",
       "      <td>  370</td>\n",
       "      <td> 10485</td>\n",
       "    </tr>\n",
       "    <tr>\n",
       "      <th>23 </th>\n",
       "      <td> An Introduction to Interactive Programming in ...</td>\n",
       "      <td>                          [Rice University]</td>\n",
       "      <td>          [Computer Science: Software Engineering]</td>\n",
       "      <td>  2630</td>\n",
       "      <td> 8358</td>\n",
       "      <td>   430</td>\n",
       "    </tr>\n",
       "    <tr>\n",
       "      <th>33 </th>\n",
       "      <td>                   E-learning and Digital Cultures</td>\n",
       "      <td>              [The University of Edinburgh]</td>\n",
       "      <td>                                       [Education]</td>\n",
       "      <td>  2629</td>\n",
       "      <td> 8358</td>\n",
       "      <td>  5186</td>\n",
       "    </tr>\n",
       "  </tbody>\n",
       "</table>\n",
       "</div>"
      ],
      "text/plain": [
       "                                           course_name  \\\n",
       "428                                       Gamification   \n",
       "209         Functional Programming Principles in Scala   \n",
       "389                                   Machine Learning   \n",
       "321                                     Cryptography I   \n",
       "258                            Social Network Analysis   \n",
       "857                 Principles of Reactive Programming   \n",
       "761               Think Again: How to Reason and Argue   \n",
       "685                                     Model Thinking   \n",
       "23   An Introduction to Interactive Programming in ...   \n",
       "33                     E-learning and Digital Cultures   \n",
       "\n",
       "                              universities_name  \\\n",
       "428                [University of Pennsylvania]   \n",
       "209  [École Polytechnique Fédérale de Lausanne]   \n",
       "389                       [Stanford University]   \n",
       "321                       [Stanford University]   \n",
       "258                    [University of Michigan]   \n",
       "857  [École Polytechnique Fédérale de Lausanne]   \n",
       "761                           [Duke University]   \n",
       "685                    [University of Michigan]   \n",
       "23                            [Rice University]   \n",
       "33                [The University of Edinburgh]   \n",
       "\n",
       "                                       categories_name  twitter_count  \\\n",
       "428  [Information, Tech & Design, Business & Manage...          10302   \n",
       "209           [Computer Science: Software Engineering]           6712   \n",
       "389  [Statistics and Data Analysis, Computer Scienc...           5792   \n",
       "321  [Computer Science: Theory, Computer Science: S...           4367   \n",
       "258  [Information, Tech & Design, Computer Science:...           3895   \n",
       "857           [Computer Science: Software Engineering]           3216   \n",
       "761    [Humanities , Teacher Professional Development]           2950   \n",
       "685                 [Economics & Finance, Humanities ]           2721   \n",
       "23            [Computer Science: Software Engineering]           2630   \n",
       "33                                         [Education]           2629   \n",
       "\n",
       "     linkedin_count  facebook_count  \n",
       "428            8358           23322  \n",
       "209             699            9922  \n",
       "389             306           21879  \n",
       "321            8358           15066  \n",
       "258              39           10315  \n",
       "857            8358            2739  \n",
       "761             160               0  \n",
       "685             370           10485  \n",
       "23             8358             430  \n",
       "33             8358            5186  "
      ]
     },
     "execution_count": 28,
     "metadata": {},
     "output_type": "execute_result"
    }
   ],
   "source": [
    "cols_to_show = ['course_name', 'universities_name', 'categories_name', 'twitter_count', 'linkedin_count', 'facebook_count']\n",
    "#Get English courses\n",
    "query = courses_df[courses_df['course_language'] == 'en']\n",
    "#Sort the courses by twitter count and get the top 10 courses\n",
    "query = query.sort('twitter_count', ascending=0).head(10)\n",
    "query[cols_to_show]"
   ]
  },
  {
   "cell_type": "markdown",
   "metadata": {},
   "source": [
    "##4.1. Getting the top 10 most popular English courses in \"Statistics and Data Analysis\" by Twitter count"
   ]
  },
  {
   "cell_type": "code",
   "execution_count": 29,
   "metadata": {
    "collapsed": false
   },
   "outputs": [
    {
     "data": {
      "text/html": [
       "<div style=\"max-height:1000px;max-width:1500px;overflow:auto;\">\n",
       "<table border=\"1\" class=\"dataframe\">\n",
       "  <thead>\n",
       "    <tr style=\"text-align: right;\">\n",
       "      <th></th>\n",
       "      <th>course_name</th>\n",
       "      <th>universities_name</th>\n",
       "      <th>categories_name</th>\n",
       "      <th>twitter_count</th>\n",
       "      <th>linkedin_count</th>\n",
       "      <th>facebook_count</th>\n",
       "    </tr>\n",
       "  </thead>\n",
       "  <tbody>\n",
       "    <tr>\n",
       "      <th>389</th>\n",
       "      <td>                                 Machine Learning</td>\n",
       "      <td>               [Stanford University]</td>\n",
       "      <td> [Statistics and Data Analysis, Computer Scienc...</td>\n",
       "      <td> 5792</td>\n",
       "      <td>  306</td>\n",
       "      <td> 21879</td>\n",
       "    </tr>\n",
       "    <tr>\n",
       "      <th>791</th>\n",
       "      <td>                              Startup Engineering</td>\n",
       "      <td>               [Stanford University]</td>\n",
       "      <td> [Computer Science: Software Engineering, Busin...</td>\n",
       "      <td> 2572</td>\n",
       "      <td>  248</td>\n",
       "      <td>  7845</td>\n",
       "    </tr>\n",
       "    <tr>\n",
       "      <th>622</th>\n",
       "      <td>                      Computing for Data Analysis</td>\n",
       "      <td>          [Johns Hopkins University]</td>\n",
       "      <td>  [Health &amp; Society, Statistics and Data Analysis]</td>\n",
       "      <td> 2166</td>\n",
       "      <td>  252</td>\n",
       "      <td>  8787</td>\n",
       "    </tr>\n",
       "    <tr>\n",
       "      <th>168</th>\n",
       "      <td>                     Introduction to Data Science</td>\n",
       "      <td>          [University of Washington]</td>\n",
       "      <td> [Information, Tech &amp; Design, Computer Science:...</td>\n",
       "      <td> 1586</td>\n",
       "      <td>  480</td>\n",
       "      <td>  4593</td>\n",
       "    </tr>\n",
       "    <tr>\n",
       "      <th>96 </th>\n",
       "      <td>                                   Statistics One</td>\n",
       "      <td>              [Princeton University]</td>\n",
       "      <td>                    [Statistics and Data Analysis]</td>\n",
       "      <td> 1496</td>\n",
       "      <td> 8358</td>\n",
       "      <td>  7305</td>\n",
       "    </tr>\n",
       "    <tr>\n",
       "      <th>187</th>\n",
       "      <td>                                    Data Analysis</td>\n",
       "      <td>          [Johns Hopkins University]</td>\n",
       "      <td>  [Health &amp; Society, Statistics and Data Analysis]</td>\n",
       "      <td> 1485</td>\n",
       "      <td>  145</td>\n",
       "      <td>  4891</td>\n",
       "    </tr>\n",
       "    <tr>\n",
       "      <th>753</th>\n",
       "      <td>               Maps and the Geospatial Revolution</td>\n",
       "      <td> [The Pennsylvania State University]</td>\n",
       "      <td> [Information, Tech &amp; Design, Statistics and Da...</td>\n",
       "      <td> 1363</td>\n",
       "      <td>  250</td>\n",
       "      <td>  6754</td>\n",
       "    </tr>\n",
       "    <tr>\n",
       "      <th>492</th>\n",
       "      <td> Creativity, Innovation, and Change | 创意，创新, 与 变革</td>\n",
       "      <td> [The Pennsylvania State University]</td>\n",
       "      <td> [Computer Science: Theory, Economics &amp; Finance...</td>\n",
       "      <td> 1226</td>\n",
       "      <td>  300</td>\n",
       "      <td>  9518</td>\n",
       "    </tr>\n",
       "    <tr>\n",
       "      <th>106</th>\n",
       "      <td>                     The Data Scientist’s Toolbox</td>\n",
       "      <td>          [Johns Hopkins University]</td>\n",
       "      <td>                    [Statistics and Data Analysis]</td>\n",
       "      <td>  815</td>\n",
       "      <td>  388</td>\n",
       "      <td>  3936</td>\n",
       "    </tr>\n",
       "    <tr>\n",
       "      <th>886</th>\n",
       "      <td>                                    R Programming</td>\n",
       "      <td>          [Johns Hopkins University]</td>\n",
       "      <td> [Information, Tech &amp; Design, Statistics and Da...</td>\n",
       "      <td>  757</td>\n",
       "      <td> 8358</td>\n",
       "      <td>  7031</td>\n",
       "    </tr>\n",
       "  </tbody>\n",
       "</table>\n",
       "</div>"
      ],
      "text/plain": [
       "                                          course_name  \\\n",
       "389                                  Machine Learning   \n",
       "791                               Startup Engineering   \n",
       "622                       Computing for Data Analysis   \n",
       "168                      Introduction to Data Science   \n",
       "96                                     Statistics One   \n",
       "187                                     Data Analysis   \n",
       "753                Maps and the Geospatial Revolution   \n",
       "492  Creativity, Innovation, and Change | 创意，创新, 与 变革   \n",
       "106                      The Data Scientist’s Toolbox   \n",
       "886                                     R Programming   \n",
       "\n",
       "                       universities_name  \\\n",
       "389                [Stanford University]   \n",
       "791                [Stanford University]   \n",
       "622           [Johns Hopkins University]   \n",
       "168           [University of Washington]   \n",
       "96                [Princeton University]   \n",
       "187           [Johns Hopkins University]   \n",
       "753  [The Pennsylvania State University]   \n",
       "492  [The Pennsylvania State University]   \n",
       "106           [Johns Hopkins University]   \n",
       "886           [Johns Hopkins University]   \n",
       "\n",
       "                                       categories_name  twitter_count  \\\n",
       "389  [Statistics and Data Analysis, Computer Scienc...           5792   \n",
       "791  [Computer Science: Software Engineering, Busin...           2572   \n",
       "622   [Health & Society, Statistics and Data Analysis]           2166   \n",
       "168  [Information, Tech & Design, Computer Science:...           1586   \n",
       "96                      [Statistics and Data Analysis]           1496   \n",
       "187   [Health & Society, Statistics and Data Analysis]           1485   \n",
       "753  [Information, Tech & Design, Statistics and Da...           1363   \n",
       "492  [Computer Science: Theory, Economics & Finance...           1226   \n",
       "106                     [Statistics and Data Analysis]            815   \n",
       "886  [Information, Tech & Design, Statistics and Da...            757   \n",
       "\n",
       "     linkedin_count  facebook_count  \n",
       "389             306           21879  \n",
       "791             248            7845  \n",
       "622             252            8787  \n",
       "168             480            4593  \n",
       "96             8358            7305  \n",
       "187             145            4891  \n",
       "753             250            6754  \n",
       "492             300            9518  \n",
       "106             388            3936  \n",
       "886            8358            7031  "
      ]
     },
     "execution_count": 29,
     "metadata": {},
     "output_type": "execute_result"
    }
   ],
   "source": [
    "#Get English courses\n",
    "query = courses_df[courses_df['course_language'] == 'en']\n",
    "#Filter the \"Statistics and Data Analysis\" courses\n",
    "query = query[query['categories_name'].map(lambda categories_name: 'Statistics and Data Analysis' in categories_name)]\n",
    "#Sort the courses by twitter count and get the top 10 courses\n",
    "query = query.sort('twitter_count', ascending=0).head(10)\n",
    "query[cols_to_show]"
   ]
  },
  {
   "cell_type": "markdown",
   "metadata": {},
   "source": [
    "#Conclusion\n",
    "In this tutorial, we learned how to use the Coursera API to get the courses catalogue and how to use the sharedcount.com API to get social shares metrics for each course. The technique introduced in this tutorial can be leveraged to other use cases that requires a popularity ranking system for measuring the relevance of a list of links.\n",
    "\n",
    "The source code for this tutorial can be found in this [github repository](https://github.com/adilmoujahid/Coursera_Analytics)."
   ]
  }
 ],
 "metadata": {
  "kernelspec": {
   "display_name": "Python 2",
   "language": "python",
   "name": "python2"
  },
  "language_info": {
   "codemirror_mode": {
    "name": "ipython",
    "version": 2
   },
   "file_extension": ".py",
   "mimetype": "text/x-python",
   "name": "python",
   "nbconvert_exporter": "python",
   "pygments_lexer": "ipython2",
   "version": "2.7.11"
  }
 },
 "nbformat": 4,
 "nbformat_minor": 0
}
